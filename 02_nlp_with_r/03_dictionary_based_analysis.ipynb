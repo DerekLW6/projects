{
 "cells": [
  {
   "cell_type": "markdown",
   "metadata": {},
   "source": [
    "## IDS 704: Data Scrapping and Text Analysis - Dictionary Based Analysis\n",
    "### Derek Wales, MIDS 21"
   ]
  },
  {
   "cell_type": "code",
   "execution_count": 1,
   "metadata": {},
   "outputs": [
    {
     "name": "stderr",
     "output_type": "stream",
     "text": [
      "\n",
      "Attaching package: 'dplyr'\n",
      "\n",
      "The following objects are masked from 'package:stats':\n",
      "\n",
      "    filter, lag\n",
      "\n",
      "The following objects are masked from 'package:base':\n",
      "\n",
      "    intersect, setdiff, setequal, union\n",
      "\n",
      "Loading required package: NLP\n"
     ]
    }
   ],
   "source": [
    "# Suppressing Warnings\n",
    "options(warn=-1)\n",
    "\n",
    "# Loading required libraries\n",
    "library(text2vec)\n",
    "library(dplyr)\n",
    "library(tm)\n",
    "library(tidytext)\n",
    "library(SnowballC)\n",
    "library(stringr)"
   ]
  },
  {
   "cell_type": "markdown",
   "metadata": {},
   "source": [
    "## Question 1:\n",
    "Using the link above, load the review dataset into your workspace. We will need the columns containing which product the review is for as well as the review text, indicate which columns they are and create a new cleaned dataframe with only these two columns. Print the first few rows of data."
   ]
  },
  {
   "cell_type": "code",
   "execution_count": 2,
   "metadata": {},
   "outputs": [
    {
     "data": {
      "text/html": [
       "<table>\n",
       "<caption>A data.frame: 3 × 2</caption>\n",
       "<thead>\n",
       "\t<tr><th scope=col>name</th><th scope=col>reviews.text</th></tr>\n",
       "\t<tr><th scope=col>&lt;fct&gt;</th><th scope=col>&lt;fct&gt;</th></tr>\n",
       "</thead>\n",
       "<tbody>\n",
       "\t<tr><td>All-New Fire HD 8 Tablet, 8 HD Display, Wi-Fi, 16 GB - Includes Special Offers, Magenta</td><td>This product so far has not disappointed. My children love to use it and I like the ability to monitor control what content they see with ease.</td></tr>\n",
       "\t<tr><td>All-New Fire HD 8 Tablet, 8 HD Display, Wi-Fi, 16 GB - Includes Special Offers, Magenta</td><td>great for beginner or experienced person. Bought as a gift and she loves it                                                                    </td></tr>\n",
       "\t<tr><td>All-New Fire HD 8 Tablet, 8 HD Display, Wi-Fi, 16 GB - Includes Special Offers, Magenta</td><td>Inexpensive tablet for him to use and learn on, step up from the NABI. He was thrilled with it, learn how to Skype on it already...            </td></tr>\n",
       "</tbody>\n",
       "</table>\n"
      ],
      "text/latex": [
       "A data.frame: 3 × 2\n",
       "\\begin{tabular}{r|ll}\n",
       " name & reviews.text\\\\\n",
       " <fct> & <fct>\\\\\n",
       "\\hline\n",
       "\t All-New Fire HD 8 Tablet, 8 HD Display, Wi-Fi, 16 GB - Includes Special Offers, Magenta & This product so far has not disappointed. My children love to use it and I like the ability to monitor control what content they see with ease.\\\\\n",
       "\t All-New Fire HD 8 Tablet, 8 HD Display, Wi-Fi, 16 GB - Includes Special Offers, Magenta & great for beginner or experienced person. Bought as a gift and she loves it                                                                    \\\\\n",
       "\t All-New Fire HD 8 Tablet, 8 HD Display, Wi-Fi, 16 GB - Includes Special Offers, Magenta & Inexpensive tablet for him to use and learn on, step up from the NABI. He was thrilled with it, learn how to Skype on it already...            \\\\\n",
       "\\end{tabular}\n"
      ],
      "text/markdown": [
       "\n",
       "A data.frame: 3 × 2\n",
       "\n",
       "| name &lt;fct&gt; | reviews.text &lt;fct&gt; |\n",
       "|---|---|\n",
       "| All-New Fire HD 8 Tablet, 8 HD Display, Wi-Fi, 16 GB - Includes Special Offers, Magenta | This product so far has not disappointed. My children love to use it and I like the ability to monitor control what content they see with ease. |\n",
       "| All-New Fire HD 8 Tablet, 8 HD Display, Wi-Fi, 16 GB - Includes Special Offers, Magenta | great for beginner or experienced person. Bought as a gift and she loves it                                                                     |\n",
       "| All-New Fire HD 8 Tablet, 8 HD Display, Wi-Fi, 16 GB - Includes Special Offers, Magenta | Inexpensive tablet for him to use and learn on, step up from the NABI. He was thrilled with it, learn how to Skype on it already...             |\n",
       "\n"
      ],
      "text/plain": [
       "  name                                                                                   \n",
       "1 All-New Fire HD 8 Tablet, 8 HD Display, Wi-Fi, 16 GB - Includes Special Offers, Magenta\n",
       "2 All-New Fire HD 8 Tablet, 8 HD Display, Wi-Fi, 16 GB - Includes Special Offers, Magenta\n",
       "3 All-New Fire HD 8 Tablet, 8 HD Display, Wi-Fi, 16 GB - Includes Special Offers, Magenta\n",
       "  reviews.text                                                                                                                                   \n",
       "1 This product so far has not disappointed. My children love to use it and I like the ability to monitor control what content they see with ease.\n",
       "2 great for beginner or experienced person. Bought as a gift and she loves it                                                                    \n",
       "3 Inexpensive tablet for him to use and learn on, step up from the NABI. He was thrilled with it, learn how to Skype on it already...            "
      ]
     },
     "metadata": {},
     "output_type": "display_data"
    }
   ],
   "source": [
    "# Loading the data\n",
    "review_df = read.csv('1429_1.csv')\n",
    "\n",
    "# Saving the Name and reviews.text columns \n",
    "review_df2 = review_df[c('name', 'reviews.text')]\n",
    "\n",
    "# Printing the Data\n",
    "head(review_df2, 3)"
   ]
  },
  {
   "cell_type": "markdown",
   "metadata": {},
   "source": [
    "## Question 2:\n",
    "Summarize the data by outputting the products reviewed in this dataset as well as the number of reviews per product. </br>\n",
    "Source: https://datacarpentry.org/R-genomics/04-dplyr.html"
   ]
  },
  {
   "cell_type": "code",
   "execution_count": 3,
   "metadata": {},
   "outputs": [],
   "source": [
    "# Drops the DF down to 49 products\n",
    "reviews_df_grouped <- review_df2 %>%\n",
    "                    group_by(name) %>%\n",
    "                    summarize(n())"
   ]
  },
  {
   "cell_type": "code",
   "execution_count": 4,
   "metadata": {},
   "outputs": [
    {
     "data": {
      "text/html": [
       "<table>\n",
       "<caption>A tibble: 3 × 2</caption>\n",
       "<thead>\n",
       "\t<tr><th scope=col>name</th><th scope=col>n()</th></tr>\n",
       "\t<tr><th scope=col>&lt;fct&gt;</th><th scope=col>&lt;int&gt;</th></tr>\n",
       "</thead>\n",
       "<tbody>\n",
       "\t<tr><td>                                                                                       </td><td>6760</td></tr>\n",
       "\t<tr><td>All-New Fire HD 8 Tablet, 8 HD Display, Wi-Fi, 16 GB - Includes Special Offers, Magenta</td><td>2814</td></tr>\n",
       "\t<tr><td>All-New Fire HD 8 Tablet, 8 HD Display, Wi-Fi, 32 GB - Includes Special Offers, Magenta</td><td> 158</td></tr>\n",
       "</tbody>\n",
       "</table>\n"
      ],
      "text/latex": [
       "A tibble: 3 × 2\n",
       "\\begin{tabular}{r|ll}\n",
       " name & n()\\\\\n",
       " <fct> & <int>\\\\\n",
       "\\hline\n",
       "\t                                                                                         & 6760\\\\\n",
       "\t All-New Fire HD 8 Tablet, 8 HD Display, Wi-Fi, 16 GB - Includes Special Offers, Magenta & 2814\\\\\n",
       "\t All-New Fire HD 8 Tablet, 8 HD Display, Wi-Fi, 32 GB - Includes Special Offers, Magenta &  158\\\\\n",
       "\\end{tabular}\n"
      ],
      "text/markdown": [
       "\n",
       "A tibble: 3 × 2\n",
       "\n",
       "| name &lt;fct&gt; | n() &lt;int&gt; |\n",
       "|---|---|\n",
       "| <!----> | 6760 |\n",
       "| All-New Fire HD 8 Tablet, 8 HD Display, Wi-Fi, 16 GB - Includes Special Offers, Magenta | 2814 |\n",
       "| All-New Fire HD 8 Tablet, 8 HD Display, Wi-Fi, 32 GB - Includes Special Offers, Magenta |  158 |\n",
       "\n"
      ],
      "text/plain": [
       "  name                                                                                   \n",
       "1                                                                                        \n",
       "2 All-New Fire HD 8 Tablet, 8 HD Display, Wi-Fi, 16 GB - Includes Special Offers, Magenta\n",
       "3 All-New Fire HD 8 Tablet, 8 HD Display, Wi-Fi, 32 GB - Includes Special Offers, Magenta\n",
       "  n() \n",
       "1 6760\n",
       "2 2814\n",
       "3  158"
      ]
     },
     "metadata": {},
     "output_type": "display_data"
    }
   ],
   "source": [
    "head(reviews_df_grouped,3)"
   ]
  },
  {
   "cell_type": "code",
   "execution_count": 5,
   "metadata": {},
   "outputs": [
    {
     "data": {
      "text/html": [
       "<ol class=list-inline>\n",
       "\t<li>49</li>\n",
       "\t<li>2</li>\n",
       "</ol>\n"
      ],
      "text/latex": [
       "\\begin{enumerate*}\n",
       "\\item 49\n",
       "\\item 2\n",
       "\\end{enumerate*}\n"
      ],
      "text/markdown": [
       "1. 49\n",
       "2. 2\n",
       "\n",
       "\n"
      ],
      "text/plain": [
       "[1] 49  2"
      ]
     },
     "metadata": {},
     "output_type": "display_data"
    }
   ],
   "source": [
    "dim(reviews_df_grouped)"
   ]
  },
  {
   "cell_type": "markdown",
   "metadata": {},
   "source": [
    "## Question 3:\n",
    "You will see there are 49 products with various review counts. Imagine the case that you are a consumer deciding between two similar products to purchase and are using reviews to help inform this purchase. From our data, select two products that are reasonable to compare and create new dataframes for each product containing only the reviews for that product. Identify which product you chose and print the first few rows of data for each product’s dataframe. Make sure each product has at least 50 reviews. Hint: sort products alphabetically then use the split function."
   ]
  },
  {
   "cell_type": "markdown",
   "metadata": {},
   "source": [
    "### Selected \n",
    "#### Item One: All-New Fire HD 8 Tablet, 8 HD Display, Wi-Fi, 16 GB - Includes Special Offers, Magenta\n",
    "#### Item Two: All-New Fire HD 8 Tablet, 8 HD Display, Wi-Fi, 32 GB - Includes Special Offers, Magenta"
   ]
  },
  {
   "cell_type": "code",
   "execution_count": 6,
   "metadata": {},
   "outputs": [
    {
     "data": {
      "text/html": [
       "<table>\n",
       "<caption>A data.frame: 2 × 2</caption>\n",
       "<thead>\n",
       "\t<tr><th scope=col>name</th><th scope=col>reviews.text</th></tr>\n",
       "\t<tr><th scope=col>&lt;fct&gt;</th><th scope=col>&lt;fct&gt;</th></tr>\n",
       "</thead>\n",
       "<tbody>\n",
       "\t<tr><td>All-New Fire HD 8 Tablet, 8 HD Display, Wi-Fi, 16 GB - Includes Special Offers, Magenta</td><td>This product so far has not disappointed. My children love to use it and I like the ability to monitor control what content they see with ease.</td></tr>\n",
       "\t<tr><td>All-New Fire HD 8 Tablet, 8 HD Display, Wi-Fi, 16 GB - Includes Special Offers, Magenta</td><td>great for beginner or experienced person. Bought as a gift and she loves it                                                                    </td></tr>\n",
       "</tbody>\n",
       "</table>\n"
      ],
      "text/latex": [
       "A data.frame: 2 × 2\n",
       "\\begin{tabular}{r|ll}\n",
       " name & reviews.text\\\\\n",
       " <fct> & <fct>\\\\\n",
       "\\hline\n",
       "\t All-New Fire HD 8 Tablet, 8 HD Display, Wi-Fi, 16 GB - Includes Special Offers, Magenta & This product so far has not disappointed. My children love to use it and I like the ability to monitor control what content they see with ease.\\\\\n",
       "\t All-New Fire HD 8 Tablet, 8 HD Display, Wi-Fi, 16 GB - Includes Special Offers, Magenta & great for beginner or experienced person. Bought as a gift and she loves it                                                                    \\\\\n",
       "\\end{tabular}\n"
      ],
      "text/markdown": [
       "\n",
       "A data.frame: 2 × 2\n",
       "\n",
       "| name &lt;fct&gt; | reviews.text &lt;fct&gt; |\n",
       "|---|---|\n",
       "| All-New Fire HD 8 Tablet, 8 HD Display, Wi-Fi, 16 GB - Includes Special Offers, Magenta | This product so far has not disappointed. My children love to use it and I like the ability to monitor control what content they see with ease. |\n",
       "| All-New Fire HD 8 Tablet, 8 HD Display, Wi-Fi, 16 GB - Includes Special Offers, Magenta | great for beginner or experienced person. Bought as a gift and she loves it                                                                     |\n",
       "\n"
      ],
      "text/plain": [
       "  name                                                                                   \n",
       "1 All-New Fire HD 8 Tablet, 8 HD Display, Wi-Fi, 16 GB - Includes Special Offers, Magenta\n",
       "2 All-New Fire HD 8 Tablet, 8 HD Display, Wi-Fi, 16 GB - Includes Special Offers, Magenta\n",
       "  reviews.text                                                                                                                                   \n",
       "1 This product so far has not disappointed. My children love to use it and I like the ability to monitor control what content they see with ease.\n",
       "2 great for beginner or experienced person. Bought as a gift and she loves it                                                                    "
      ]
     },
     "metadata": {},
     "output_type": "display_data"
    },
    {
     "data": {
      "text/html": [
       "<ol class=list-inline>\n",
       "\t<li>2814</li>\n",
       "\t<li>2</li>\n",
       "</ol>\n"
      ],
      "text/latex": [
       "\\begin{enumerate*}\n",
       "\\item 2814\n",
       "\\item 2\n",
       "\\end{enumerate*}\n"
      ],
      "text/markdown": [
       "1. 2814\n",
       "2. 2\n",
       "\n",
       "\n"
      ],
      "text/plain": [
       "[1] 2814    2"
      ]
     },
     "metadata": {},
     "output_type": "display_data"
    }
   ],
   "source": [
    "# Creating fire_16gb_df\n",
    "fire_16gb_df <- review_df2[review_df2$name == 'All-New Fire HD 8 Tablet, 8 HD Display, Wi-Fi, 16 GB - Includes Special Offers, Magenta',]\n",
    "\n",
    "# Validating the DF\n",
    "head(fire_16gb_df, 2)\n",
    "\n",
    "# Printing the dimensions\n",
    "dim(fire_16gb_df)"
   ]
  },
  {
   "cell_type": "code",
   "execution_count": 7,
   "metadata": {},
   "outputs": [
    {
     "data": {
      "text/html": [
       "<table>\n",
       "<caption>A data.frame: 2 × 2</caption>\n",
       "<thead>\n",
       "\t<tr><th></th><th scope=col>name</th><th scope=col>reviews.text</th></tr>\n",
       "\t<tr><th></th><th scope=col>&lt;fct&gt;</th><th scope=col>&lt;fct&gt;</th></tr>\n",
       "</thead>\n",
       "<tbody>\n",
       "\t<tr><th scope=row>2894</th><td>All-New Fire HD 8 Tablet, 8 HD Display, Wi-Fi, 32 GB - Includes Special Offers, Magenta</td><td>I woke up to a nice surprise this morning: a new kindle as a gift. I have an iPad and a Kindle DX, but I guess someone heard my complaints of them being too heavy and difficult to do extended-reading on. Don't get me wrong, I absolutely love my iPad and DX, but this new generation of Kindle is perfect for reading outside and for long periods of time. The iPad gets completely washed out in sunlight and often irritates my eyes staring at it for more than a couple of hours. The DX was my go-to device for those extended/outdoor reading periods, but now I have a new friend for reading novels. Instead of a replacement, this one seems more like a companion to the other devices and is a different class. The iPad works great for web browsing, shopping, productivity, games, etc while the Kindle falls short in those areas. The Kindle works great for reading novels, where the iPad falls short. For those that love to do extended-reading of magazines, newspapers, research articles, etc, I find that the DX is the go-to device.br /br /Without a doubt, the size and weight of the new kindle is the biggest draw for me. It's smaller than the last edition by a significant margin. I've played around with the Kindle 2 and was impressed, but now looking at the size of the new Kindle, I'm blown away. It's the absolute perfect size. Smaller would be unmanageable and larger wouldn't feel nearly as good. This is a device that you can hold up, read, and just forget that it's there. Compared to other e-readers I've tried, it's much smaller and much lighter.br /br /One of my biggest complaints about the previous generation Kindles and the DX is the speed. It sometimes takes a while after you push next page' for it to actually change.Read more</td></tr>\n",
       "\t<tr><th scope=row>2895</th><td>All-New Fire HD 8 Tablet, 8 HD Display, Wi-Fi, 32 GB - Includes Special Offers, Magenta</td><td>I use to hate to read but now that I have my Kindle and I can change the size of the font so this old lady can see the words better I love to read.                                                                                                                                                                                                                                                                                                                                                                                                                                                                                                                                                                                                                                                                                                                                                                                                                                                                                                                                                                                                                                                                                                                                                                                                                                                                                                                                                                                                                                                                                                                                                                                                                                                          </td></tr>\n",
       "</tbody>\n",
       "</table>\n"
      ],
      "text/latex": [
       "A data.frame: 2 × 2\n",
       "\\begin{tabular}{r|ll}\n",
       "  & name & reviews.text\\\\\n",
       "  & <fct> & <fct>\\\\\n",
       "\\hline\n",
       "\t2894 & All-New Fire HD 8 Tablet, 8 HD Display, Wi-Fi, 32 GB - Includes Special Offers, Magenta & I woke up to a nice surprise this morning: a new kindle as a gift. I have an iPad and a Kindle DX, but I guess someone heard my complaints of them being too heavy and difficult to do extended-reading on. Don't get me wrong, I absolutely love my iPad and DX, but this new generation of Kindle is perfect for reading outside and for long periods of time. The iPad gets completely washed out in sunlight and often irritates my eyes staring at it for more than a couple of hours. The DX was my go-to device for those extended/outdoor reading periods, but now I have a new friend for reading novels. Instead of a replacement, this one seems more like a companion to the other devices and is a different class. The iPad works great for web browsing, shopping, productivity, games, etc while the Kindle falls short in those areas. The Kindle works great for reading novels, where the iPad falls short. For those that love to do extended-reading of magazines, newspapers, research articles, etc, I find that the DX is the go-to device.br /br /Without a doubt, the size and weight of the new kindle is the biggest draw for me. It's smaller than the last edition by a significant margin. I've played around with the Kindle 2 and was impressed, but now looking at the size of the new Kindle, I'm blown away. It's the absolute perfect size. Smaller would be unmanageable and larger wouldn't feel nearly as good. This is a device that you can hold up, read, and just forget that it's there. Compared to other e-readers I've tried, it's much smaller and much lighter.br /br /One of my biggest complaints about the previous generation Kindles and the DX is the speed. It sometimes takes a while after you push next page' for it to actually change.Read more\\\\\n",
       "\t2895 & All-New Fire HD 8 Tablet, 8 HD Display, Wi-Fi, 32 GB - Includes Special Offers, Magenta & I use to hate to read but now that I have my Kindle and I can change the size of the font so this old lady can see the words better I love to read.                                                                                                                                                                                                                                                                                                                                                                                                                                                                                                                                                                                                                                                                                                                                                                                                                                                                                                                                                                                                                                                                                                                                                                                                                                                                                                                                                                                                                                                                                                                                                                                                                                                          \\\\\n",
       "\\end{tabular}\n"
      ],
      "text/markdown": [
       "\n",
       "A data.frame: 2 × 2\n",
       "\n",
       "| <!--/--> | name &lt;fct&gt; | reviews.text &lt;fct&gt; |\n",
       "|---|---|---|\n",
       "| 2894 | All-New Fire HD 8 Tablet, 8 HD Display, Wi-Fi, 32 GB - Includes Special Offers, Magenta | I woke up to a nice surprise this morning: a new kindle as a gift. I have an iPad and a Kindle DX, but I guess someone heard my complaints of them being too heavy and difficult to do extended-reading on. Don't get me wrong, I absolutely love my iPad and DX, but this new generation of Kindle is perfect for reading outside and for long periods of time. The iPad gets completely washed out in sunlight and often irritates my eyes staring at it for more than a couple of hours. The DX was my go-to device for those extended/outdoor reading periods, but now I have a new friend for reading novels. Instead of a replacement, this one seems more like a companion to the other devices and is a different class. The iPad works great for web browsing, shopping, productivity, games, etc while the Kindle falls short in those areas. The Kindle works great for reading novels, where the iPad falls short. For those that love to do extended-reading of magazines, newspapers, research articles, etc, I find that the DX is the go-to device.br /br /Without a doubt, the size and weight of the new kindle is the biggest draw for me. It's smaller than the last edition by a significant margin. I've played around with the Kindle 2 and was impressed, but now looking at the size of the new Kindle, I'm blown away. It's the absolute perfect size. Smaller would be unmanageable and larger wouldn't feel nearly as good. This is a device that you can hold up, read, and just forget that it's there. Compared to other e-readers I've tried, it's much smaller and much lighter.br /br /One of my biggest complaints about the previous generation Kindles and the DX is the speed. It sometimes takes a while after you push next page' for it to actually change.Read more |\n",
       "| 2895 | All-New Fire HD 8 Tablet, 8 HD Display, Wi-Fi, 32 GB - Includes Special Offers, Magenta | I use to hate to read but now that I have my Kindle and I can change the size of the font so this old lady can see the words better I love to read.                                                                                                                                                                                                                                                                                                                                                                                                                                                                                                                                                                                                                                                                                                                                                                                                                                                                                                                                                                                                                                                                                                                                                                                                                                                                                                                                                                                                                                                                                                                                                                                                                                                           |\n",
       "\n"
      ],
      "text/plain": [
       "     name                                                                                   \n",
       "2894 All-New Fire HD 8 Tablet, 8 HD Display, Wi-Fi, 32 GB - Includes Special Offers, Magenta\n",
       "2895 All-New Fire HD 8 Tablet, 8 HD Display, Wi-Fi, 32 GB - Includes Special Offers, Magenta\n",
       "     reviews.text                                                                                                                                                                                                                                                                                                                                                                                                                                                                                                                                                                                                                                                                                                                                                                                                                                                                                                                                                                                                                                                                                                                                                                                                                                                                                                                                                                                                                                                                                                                                                                                                                                                                                                                                                                                                 \n",
       "2894 I woke up to a nice surprise this morning: a new kindle as a gift. I have an iPad and a Kindle DX, but I guess someone heard my complaints of them being too heavy and difficult to do extended-reading on. Don't get me wrong, I absolutely love my iPad and DX, but this new generation of Kindle is perfect for reading outside and for long periods of time. The iPad gets completely washed out in sunlight and often irritates my eyes staring at it for more than a couple of hours. The DX was my go-to device for those extended/outdoor reading periods, but now I have a new friend for reading novels. Instead of a replacement, this one seems more like a companion to the other devices and is a different class. The iPad works great for web browsing, shopping, productivity, games, etc while the Kindle falls short in those areas. The Kindle works great for reading novels, where the iPad falls short. For those that love to do extended-reading of magazines, newspapers, research articles, etc, I find that the DX is the go-to device.br /br /Without a doubt, the size and weight of the new kindle is the biggest draw for me. It's smaller than the last edition by a significant margin. I've played around with the Kindle 2 and was impressed, but now looking at the size of the new Kindle, I'm blown away. It's the absolute perfect size. Smaller would be unmanageable and larger wouldn't feel nearly as good. This is a device that you can hold up, read, and just forget that it's there. Compared to other e-readers I've tried, it's much smaller and much lighter.br /br /One of my biggest complaints about the previous generation Kindles and the DX is the speed. It sometimes takes a while after you push next page' for it to actually change.Read more\n",
       "2895 I use to hate to read but now that I have my Kindle and I can change the size of the font so this old lady can see the words better I love to read.                                                                                                                                                                                                                                                                                                                                                                                                                                                                                                                                                                                                                                                                                                                                                                                                                                                                                                                                                                                                                                                                                                                                                                                                                                                                                                                                                                                                                                                                                                                                                                                                                                                          "
      ]
     },
     "metadata": {},
     "output_type": "display_data"
    },
    {
     "data": {
      "text/html": [
       "<ol class=list-inline>\n",
       "\t<li>158</li>\n",
       "\t<li>2</li>\n",
       "</ol>\n"
      ],
      "text/latex": [
       "\\begin{enumerate*}\n",
       "\\item 158\n",
       "\\item 2\n",
       "\\end{enumerate*}\n"
      ],
      "text/markdown": [
       "1. 158\n",
       "2. 2\n",
       "\n",
       "\n"
      ],
      "text/plain": [
       "[1] 158   2"
      ]
     },
     "metadata": {},
     "output_type": "display_data"
    }
   ],
   "source": [
    "# Creating 32gb_fire_df\n",
    "fire_32gb_df <- review_df2[review_df2$name == 'All-New Fire HD 8 Tablet, 8 HD Display, Wi-Fi, 32 GB - Includes Special Offers, Magenta',]\n",
    "\n",
    "# Validating the DF\n",
    "head(fire_32gb_df, 2) \n",
    "\n",
    "# Printing the dimensions\n",
    "dim(fire_32gb_df)"
   ]
  },
  {
   "cell_type": "markdown",
   "metadata": {},
   "source": [
    "## Question 4:\n",
    "Create a tidy text object for each product’s review data </br>\n",
    "https://stackoverflow.com/questions/57465241/error-in-check-inputx-input-must-be-a-character-vector-of-any-length-or-a-li </br>\n",
    "https://stackoverflow.com/questions/47613678/converting-data-frame-to-tibble-with-word-count"
   ]
  },
  {
   "cell_type": "code",
   "execution_count": 8,
   "metadata": {},
   "outputs": [
    {
     "data": {
      "text/html": [
       "<table>\n",
       "<caption>A data.frame: 2 × 2</caption>\n",
       "<thead>\n",
       "\t<tr><th></th><th scope=col>name</th><th scope=col>word</th></tr>\n",
       "\t<tr><th></th><th scope=col>&lt;chr&gt;</th><th scope=col>&lt;chr&gt;</th></tr>\n",
       "</thead>\n",
       "<tbody>\n",
       "\t<tr><th scope=row>1</th><td>All-New Fire HD 8 Tablet, 8 HD Display, Wi-Fi, 16 GB - Includes Special Offers, Magenta</td><td>this   </td></tr>\n",
       "\t<tr><th scope=row>1.1</th><td>All-New Fire HD 8 Tablet, 8 HD Display, Wi-Fi, 16 GB - Includes Special Offers, Magenta</td><td>product</td></tr>\n",
       "</tbody>\n",
       "</table>\n"
      ],
      "text/latex": [
       "A data.frame: 2 × 2\n",
       "\\begin{tabular}{r|ll}\n",
       "  & name & word\\\\\n",
       "  & <chr> & <chr>\\\\\n",
       "\\hline\n",
       "\t1 & All-New Fire HD 8 Tablet, 8 HD Display, Wi-Fi, 16 GB - Includes Special Offers, Magenta & this   \\\\\n",
       "\t1.1 & All-New Fire HD 8 Tablet, 8 HD Display, Wi-Fi, 16 GB - Includes Special Offers, Magenta & product\\\\\n",
       "\\end{tabular}\n"
      ],
      "text/markdown": [
       "\n",
       "A data.frame: 2 × 2\n",
       "\n",
       "| <!--/--> | name &lt;chr&gt; | word &lt;chr&gt; |\n",
       "|---|---|---|\n",
       "| 1 | All-New Fire HD 8 Tablet, 8 HD Display, Wi-Fi, 16 GB - Includes Special Offers, Magenta | this    |\n",
       "| 1.1 | All-New Fire HD 8 Tablet, 8 HD Display, Wi-Fi, 16 GB - Includes Special Offers, Magenta | product |\n",
       "\n"
      ],
      "text/plain": [
       "    name                                                                                   \n",
       "1   All-New Fire HD 8 Tablet, 8 HD Display, Wi-Fi, 16 GB - Includes Special Offers, Magenta\n",
       "1.1 All-New Fire HD 8 Tablet, 8 HD Display, Wi-Fi, 16 GB - Includes Special Offers, Magenta\n",
       "    word   \n",
       "1   this   \n",
       "1.1 product"
      ]
     },
     "metadata": {},
     "output_type": "display_data"
    }
   ],
   "source": [
    "# Insuring we have characters in both columns\n",
    "fire_16gb_df$name =  as.character(fire_16gb_df$name)\n",
    "fire_16gb_df$reviews.text =  as.character(fire_16gb_df$reviews.text)\n",
    "\n",
    "# Creating a tidy DF for the 16gb fire tablet\n",
    "tidy_fire_16gb <- fire_16gb_df %>%\n",
    "                select(name, reviews.text) %>%\n",
    "                unnest_tokens(\"word\", reviews.text) \n",
    "                head(tidy_fire_16gb, 2)"
   ]
  },
  {
   "cell_type": "code",
   "execution_count": 9,
   "metadata": {},
   "outputs": [
    {
     "data": {
      "text/html": [
       "<table>\n",
       "<caption>A data.frame: 2 × 2</caption>\n",
       "<thead>\n",
       "\t<tr><th></th><th scope=col>name</th><th scope=col>word</th></tr>\n",
       "\t<tr><th></th><th scope=col>&lt;chr&gt;</th><th scope=col>&lt;chr&gt;</th></tr>\n",
       "</thead>\n",
       "<tbody>\n",
       "\t<tr><th scope=row>2894</th><td>All-New Fire HD 8 Tablet, 8 HD Display, Wi-Fi, 32 GB - Includes Special Offers, Magenta</td><td>i   </td></tr>\n",
       "\t<tr><th scope=row>2894.1</th><td>All-New Fire HD 8 Tablet, 8 HD Display, Wi-Fi, 32 GB - Includes Special Offers, Magenta</td><td>woke</td></tr>\n",
       "</tbody>\n",
       "</table>\n"
      ],
      "text/latex": [
       "A data.frame: 2 × 2\n",
       "\\begin{tabular}{r|ll}\n",
       "  & name & word\\\\\n",
       "  & <chr> & <chr>\\\\\n",
       "\\hline\n",
       "\t2894 & All-New Fire HD 8 Tablet, 8 HD Display, Wi-Fi, 32 GB - Includes Special Offers, Magenta & i   \\\\\n",
       "\t2894.1 & All-New Fire HD 8 Tablet, 8 HD Display, Wi-Fi, 32 GB - Includes Special Offers, Magenta & woke\\\\\n",
       "\\end{tabular}\n"
      ],
      "text/markdown": [
       "\n",
       "A data.frame: 2 × 2\n",
       "\n",
       "| <!--/--> | name &lt;chr&gt; | word &lt;chr&gt; |\n",
       "|---|---|---|\n",
       "| 2894 | All-New Fire HD 8 Tablet, 8 HD Display, Wi-Fi, 32 GB - Includes Special Offers, Magenta | i    |\n",
       "| 2894.1 | All-New Fire HD 8 Tablet, 8 HD Display, Wi-Fi, 32 GB - Includes Special Offers, Magenta | woke |\n",
       "\n"
      ],
      "text/plain": [
       "       name                                                                                   \n",
       "2894   All-New Fire HD 8 Tablet, 8 HD Display, Wi-Fi, 32 GB - Includes Special Offers, Magenta\n",
       "2894.1 All-New Fire HD 8 Tablet, 8 HD Display, Wi-Fi, 32 GB - Includes Special Offers, Magenta\n",
       "       word\n",
       "2894   i   \n",
       "2894.1 woke"
      ]
     },
     "metadata": {},
     "output_type": "display_data"
    }
   ],
   "source": [
    "# Insuring we have characters in both columns\n",
    "fire_32gb_df$name =  as.character(fire_32gb_df$name)\n",
    "fire_32gb_df$reviews.text =  as.character(fire_32gb_df$reviews.text)\n",
    "\n",
    "# Creating a tidy DF for the 32gb fire tablet\n",
    "tidy_fire_32gb <- fire_32gb_df %>%\n",
    "                select(name, reviews.text) %>%\n",
    "                unnest_tokens(\"word\", reviews.text) \n",
    "                head(tidy_fire_32gb, 2)"
   ]
  },
  {
   "cell_type": "markdown",
   "metadata": {},
   "source": [
    "## Question 5:\n",
    "Clean the text of each dataset’s review column as you see fit and find the top 20 frequent words for each product’s reviews. Which words are unique to each product’s top 20 list? Which words appear in both?"
   ]
  },
  {
   "cell_type": "code",
   "execution_count": 10,
   "metadata": {},
   "outputs": [
    {
     "name": "stderr",
     "output_type": "stream",
     "text": [
      "Joining, by = \"word\"\n"
     ]
    },
    {
     "data": {
      "text/html": [
       "<table>\n",
       "<caption>A tibble: 6 × 2</caption>\n",
       "<thead>\n",
       "\t<tr><th scope=col>word</th><th scope=col>n</th></tr>\n",
       "\t<tr><th scope=col>&lt;chr&gt;</th><th scope=col>&lt;int&gt;</th></tr>\n",
       "</thead>\n",
       "<tbody>\n",
       "\t<tr><td>tablet</td><td>1476</td></tr>\n",
       "\t<tr><td>love  </td><td> 748</td></tr>\n",
       "\t<tr><td>price </td><td> 573</td></tr>\n",
       "\t<tr><td>fire  </td><td> 548</td></tr>\n",
       "\t<tr><td>kindl </td><td> 542</td></tr>\n",
       "\t<tr><td>amazon</td><td> 497</td></tr>\n",
       "</tbody>\n",
       "</table>\n"
      ],
      "text/latex": [
       "A tibble: 6 × 2\n",
       "\\begin{tabular}{r|ll}\n",
       " word & n\\\\\n",
       " <chr> & <int>\\\\\n",
       "\\hline\n",
       "\t tablet & 1476\\\\\n",
       "\t love   &  748\\\\\n",
       "\t price  &  573\\\\\n",
       "\t fire   &  548\\\\\n",
       "\t kindl  &  542\\\\\n",
       "\t amazon &  497\\\\\n",
       "\\end{tabular}\n"
      ],
      "text/markdown": [
       "\n",
       "A tibble: 6 × 2\n",
       "\n",
       "| word &lt;chr&gt; | n &lt;int&gt; |\n",
       "|---|---|\n",
       "| tablet | 1476 |\n",
       "| love   |  748 |\n",
       "| price  |  573 |\n",
       "| fire   |  548 |\n",
       "| kindl  |  542 |\n",
       "| amazon |  497 |\n",
       "\n"
      ],
      "text/plain": [
       "  word   n   \n",
       "1 tablet 1476\n",
       "2 love    748\n",
       "3 price   573\n",
       "4 fire    548\n",
       "5 kindl   542\n",
       "6 amazon  497"
      ]
     },
     "metadata": {},
     "output_type": "display_data"
    }
   ],
   "source": [
    "# Cleaning the tidy_fire_16gb dataset\n",
    "# Removing the stop words\n",
    "data(\"stop_words\")\n",
    "    tidy_fire_16gb<-tidy_fire_16gb %>%\n",
    "      anti_join(stop_words)\n",
    "\n",
    "# Removing Numbers (punctuation/word case done automatically with TidyText)\n",
    "tidy_fire_16gb<-tidy_fire_16gb[-grep(\"\\\\b\\\\d+\\\\b\", tidy_fire_16gb$word),]\n",
    "\n",
    "# Removing the White Spaces\n",
    "tidy_fire_16gb$word <- gsub(\"\\\\s+\",\"\",tidy_fire_16gb$word)\n",
    "\n",
    "# Stemming (putting in its conjugate form)\n",
    "tidy_fire_16gb<-tidy_fire_16gb %>%\n",
    "    mutate_at(\"word\", funs(wordStem((.), language=\"en\")))\n",
    "\n",
    "# Arranging in terms of word freq\n",
    "tidy_fire_16gb_word_freq <- tidy_fire_16gb %>%\n",
    "        count(word) %>%\n",
    "        arrange(desc(n))\n",
    "\n",
    "head(tidy_fire_16gb_word_freq)"
   ]
  },
  {
   "cell_type": "code",
   "execution_count": 11,
   "metadata": {},
   "outputs": [
    {
     "name": "stderr",
     "output_type": "stream",
     "text": [
      "Joining, by = \"word\"\n"
     ]
    },
    {
     "data": {
      "text/html": [
       "<table>\n",
       "<caption>A tibble: 6 × 2</caption>\n",
       "<thead>\n",
       "\t<tr><th scope=col>word</th><th scope=col>n</th></tr>\n",
       "\t<tr><th scope=col>&lt;chr&gt;</th><th scope=col>&lt;int&gt;</th></tr>\n",
       "</thead>\n",
       "<tbody>\n",
       "\t<tr><td>tablet</td><td>76</td></tr>\n",
       "\t<tr><td>kindl </td><td>75</td></tr>\n",
       "\t<tr><td>love  </td><td>59</td></tr>\n",
       "\t<tr><td>read  </td><td>52</td></tr>\n",
       "\t<tr><td>app   </td><td>50</td></tr>\n",
       "\t<tr><td>amazon</td><td>48</td></tr>\n",
       "</tbody>\n",
       "</table>\n"
      ],
      "text/latex": [
       "A tibble: 6 × 2\n",
       "\\begin{tabular}{r|ll}\n",
       " word & n\\\\\n",
       " <chr> & <int>\\\\\n",
       "\\hline\n",
       "\t tablet & 76\\\\\n",
       "\t kindl  & 75\\\\\n",
       "\t love   & 59\\\\\n",
       "\t read   & 52\\\\\n",
       "\t app    & 50\\\\\n",
       "\t amazon & 48\\\\\n",
       "\\end{tabular}\n"
      ],
      "text/markdown": [
       "\n",
       "A tibble: 6 × 2\n",
       "\n",
       "| word &lt;chr&gt; | n &lt;int&gt; |\n",
       "|---|---|\n",
       "| tablet | 76 |\n",
       "| kindl  | 75 |\n",
       "| love   | 59 |\n",
       "| read   | 52 |\n",
       "| app    | 50 |\n",
       "| amazon | 48 |\n",
       "\n"
      ],
      "text/plain": [
       "  word   n \n",
       "1 tablet 76\n",
       "2 kindl  75\n",
       "3 love   59\n",
       "4 read   52\n",
       "5 app    50\n",
       "6 amazon 48"
      ]
     },
     "metadata": {},
     "output_type": "display_data"
    }
   ],
   "source": [
    "# Cleaning the tidy_fire_32gb dataset\n",
    "# Removing the stop words\n",
    "data(\"stop_words\")\n",
    "    tidy_fire_32gb<-tidy_fire_32gb %>%\n",
    "      anti_join(stop_words)\n",
    "\n",
    "# Removing Numbers (punctuation/word case done automatically with TidyText)\n",
    "tidy_fire_32gb<-tidy_fire_32gb[-grep(\"\\\\b\\\\d+\\\\b\", tidy_fire_32gb$word),]\n",
    "\n",
    "# Removing the White Spaces\n",
    "tidy_fire_32gb$word <- gsub(\"\\\\s+\",\"\",tidy_fire_32gb$word)\n",
    "\n",
    "# Stemming (putting in its conjugate form)\n",
    "tidy_fire_32gb<-tidy_fire_32gb %>%\n",
    "    mutate_at(\"word\", funs(wordStem((.), language=\"en\")))\n",
    "\n",
    "# Arranging in terms of word freq\n",
    "tidy_fire_32gb_word_freq <- tidy_fire_32gb %>%\n",
    "        count(word) %>%\n",
    "        arrange(desc(n))\n",
    "\n",
    "head(tidy_fire_32gb_word_freq)"
   ]
  },
  {
   "cell_type": "code",
   "execution_count": 12,
   "metadata": {},
   "outputs": [],
   "source": [
    "# Determing Top 20 Words (tidy_fire_16gb_word_freq, tidy_fire_32gb_word_freq)\n",
    "tidy_fire_16gb_top_20<-tidy_fire_16gb_word_freq[1:20,]\n",
    "\n",
    "# Determing Top 20 Words (tidy_fire_16gb_word_freq, tidy_fire_32gb_word_freq)\n",
    "tidy_fire_32gb_top_20<-tidy_fire_32gb_word_freq[1:20,]"
   ]
  },
  {
   "cell_type": "code",
   "execution_count": 13,
   "metadata": {},
   "outputs": [
    {
     "data": {
      "text/html": [
       "<ol class=list-inline>\n",
       "\t<li>'tablet'</li>\n",
       "\t<li>'love'</li>\n",
       "\t<li>'fire'</li>\n",
       "\t<li>'kindl'</li>\n",
       "\t<li>'amazon'</li>\n",
       "\t<li>'bought'</li>\n",
       "\t<li>'easi'</li>\n",
       "\t<li>'read'</li>\n",
       "\t<li>'screen'</li>\n",
       "\t<li>'app'</li>\n",
       "\t<li>'purchas'</li>\n",
       "\t<li>'book'</li>\n",
       "\t<li>'game'</li>\n",
       "\t<li>'play'</li>\n",
       "\t<li>'product'</li>\n",
       "\t<li>'ipad'</li>\n",
       "\t<li>'size'</li>\n",
       "</ol>\n"
      ],
      "text/latex": [
       "\\begin{enumerate*}\n",
       "\\item 'tablet'\n",
       "\\item 'love'\n",
       "\\item 'fire'\n",
       "\\item 'kindl'\n",
       "\\item 'amazon'\n",
       "\\item 'bought'\n",
       "\\item 'easi'\n",
       "\\item 'read'\n",
       "\\item 'screen'\n",
       "\\item 'app'\n",
       "\\item 'purchas'\n",
       "\\item 'book'\n",
       "\\item 'game'\n",
       "\\item 'play'\n",
       "\\item 'product'\n",
       "\\item 'ipad'\n",
       "\\item 'size'\n",
       "\\end{enumerate*}\n"
      ],
      "text/markdown": [
       "1. 'tablet'\n",
       "2. 'love'\n",
       "3. 'fire'\n",
       "4. 'kindl'\n",
       "5. 'amazon'\n",
       "6. 'bought'\n",
       "7. 'easi'\n",
       "8. 'read'\n",
       "9. 'screen'\n",
       "10. 'app'\n",
       "11. 'purchas'\n",
       "12. 'book'\n",
       "13. 'game'\n",
       "14. 'play'\n",
       "15. 'product'\n",
       "16. 'ipad'\n",
       "17. 'size'\n",
       "\n",
       "\n"
      ],
      "text/plain": [
       " [1] \"tablet\"  \"love\"    \"fire\"    \"kindl\"   \"amazon\"  \"bought\"  \"easi\"   \n",
       " [8] \"read\"    \"screen\"  \"app\"     \"purchas\" \"book\"    \"game\"    \"play\"   \n",
       "[15] \"product\" \"ipad\"    \"size\"   "
      ]
     },
     "metadata": {},
     "output_type": "display_data"
    }
   ],
   "source": [
    "# Determining Top 20 Similar words \n",
    "similar_words = intersect(tidy_fire_16gb_top_20$word, tidy_fire_32gb_top_20$word)\n",
    "\n",
    "similar_words"
   ]
  },
  {
   "cell_type": "code",
   "execution_count": 14,
   "metadata": {},
   "outputs": [
    {
     "name": "stdout",
     "output_type": "stream",
     "text": [
      "[1] \"price\" \"buy\"   \"gift\" \n",
      "[1] \"devic\" \"store\" \"time\" \n"
     ]
    }
   ],
   "source": [
    "# Determining Different words between the 16gb and 32gb dataframes \n",
    "# Note: Antijoin was ineffective, so I used base R Functions\n",
    "\n",
    "# Using the set diff function\n",
    "df_16gb_unique_words = setdiff(tidy_fire_16gb_top_20$word, tidy_fire_32gb_top_20$word)\n",
    "df_32gb_unique_words = setdiff(tidy_fire_32gb_top_20$word, tidy_fire_16gb_top_20$word)\n",
    "\n",
    "# Words in the 16gb DF\n",
    "print(df_16gb_unique_words)\n",
    "\n",
    "# Words in the 32gb DF\n",
    "print(df_32gb_unique_words)"
   ]
  },
  {
   "cell_type": "markdown",
   "metadata": {},
   "source": [
    "## Question 6: \n",
    "Create a dictionary of relevant terms that might aid in our comparison of these two products. Subset the tidytext dataframe that contain these words. What percentage of reviews did you capture with your dictionary for each product?"
   ]
  },
  {
   "cell_type": "code",
   "execution_count": 24,
   "metadata": {},
   "outputs": [],
   "source": [
    "# Creating a dictionary for both works (selected a small amount IOT make sentiment analysis more effective)\n",
    "\n",
    "review_dictionary <- c('screen', 'book', 'ipad', 'tablet', 'value', 'size', 'purchas', 'read', 'product')"
   ]
  },
  {
   "cell_type": "code",
   "execution_count": 25,
   "metadata": {},
   "outputs": [],
   "source": [
    "# Creating the dataframes that contain the review words.\n",
    "fire_16gb_subset <- fire_16gb_df[str_detect(fire_16gb_df$reviews.text, review_dictionary),]\n",
    "\n",
    "fire_32gb_subset <- fire_32gb_df[str_detect(fire_32gb_df$reviews.text, review_dictionary),]"
   ]
  },
  {
   "cell_type": "markdown",
   "metadata": {},
   "source": [
    "#### Using the updated dictionary I captured 11.34% of the reviews for the 16gb Fire Tablet and 15.19% for the 32gb Fire Tablet."
   ]
  },
  {
   "cell_type": "markdown",
   "metadata": {},
   "source": [
    "## Question 7:\n",
    "Perform a sentiment analysis on each individual review and then average your results for the entire set using the bing sentiment dictionary. Based on your results, which product would you choose to purchase?"
   ]
  },
  {
   "cell_type": "code",
   "execution_count": 32,
   "metadata": {},
   "outputs": [
    {
     "name": "stderr",
     "output_type": "stream",
     "text": [
      "Joining, by = \"word\"\n"
     ]
    },
    {
     "data": {
      "text/html": [
       "<table>\n",
       "<caption>A tibble: 2 × 2</caption>\n",
       "<thead>\n",
       "\t<tr><th scope=col>sentiment</th><th scope=col>n</th></tr>\n",
       "\t<tr><th scope=col>&lt;chr&gt;</th><th scope=col>&lt;int&gt;</th></tr>\n",
       "</thead>\n",
       "<tbody>\n",
       "\t<tr><td>negative</td><td> 657</td></tr>\n",
       "\t<tr><td>positive</td><td>2663</td></tr>\n",
       "</tbody>\n",
       "</table>\n"
      ],
      "text/latex": [
       "A tibble: 2 × 2\n",
       "\\begin{tabular}{r|ll}\n",
       " sentiment & n\\\\\n",
       " <chr> & <int>\\\\\n",
       "\\hline\n",
       "\t negative &  657\\\\\n",
       "\t positive & 2663\\\\\n",
       "\\end{tabular}\n"
      ],
      "text/markdown": [
       "\n",
       "A tibble: 2 × 2\n",
       "\n",
       "| sentiment &lt;chr&gt; | n &lt;int&gt; |\n",
       "|---|---|\n",
       "| negative |  657 |\n",
       "| positive | 2663 |\n",
       "\n"
      ],
      "text/plain": [
       "  sentiment n   \n",
       "1 negative   657\n",
       "2 positive  2663"
      ]
     },
     "metadata": {},
     "output_type": "display_data"
    }
   ],
   "source": [
    "review_sentiments_16gb <- tidy_fire_16gb  %>%\n",
    "  inner_join(get_sentiments(\"bing\")) %>%\n",
    "    count(sentiment) \n",
    "\n",
    "head(review_sentiments_16gb)"
   ]
  },
  {
   "cell_type": "code",
   "execution_count": 33,
   "metadata": {},
   "outputs": [
    {
     "name": "stderr",
     "output_type": "stream",
     "text": [
      "Joining, by = \"word\"\n"
     ]
    },
    {
     "data": {
      "text/html": [
       "<table>\n",
       "<caption>A tibble: 2 × 2</caption>\n",
       "<thead>\n",
       "\t<tr><th scope=col>sentiment</th><th scope=col>n</th></tr>\n",
       "\t<tr><th scope=col>&lt;chr&gt;</th><th scope=col>&lt;int&gt;</th></tr>\n",
       "</thead>\n",
       "<tbody>\n",
       "\t<tr><td>negative</td><td> 80</td></tr>\n",
       "\t<tr><td>positive</td><td>210</td></tr>\n",
       "</tbody>\n",
       "</table>\n"
      ],
      "text/latex": [
       "A tibble: 2 × 2\n",
       "\\begin{tabular}{r|ll}\n",
       " sentiment & n\\\\\n",
       " <chr> & <int>\\\\\n",
       "\\hline\n",
       "\t negative &  80\\\\\n",
       "\t positive & 210\\\\\n",
       "\\end{tabular}\n"
      ],
      "text/markdown": [
       "\n",
       "A tibble: 2 × 2\n",
       "\n",
       "| sentiment &lt;chr&gt; | n &lt;int&gt; |\n",
       "|---|---|\n",
       "| negative |  80 |\n",
       "| positive | 210 |\n",
       "\n"
      ],
      "text/plain": [
       "  sentiment n  \n",
       "1 negative   80\n",
       "2 positive  210"
      ]
     },
     "metadata": {},
     "output_type": "display_data"
    }
   ],
   "source": [
    "review_sentiments_32gb <- tidy_fire_32gb  %>%\n",
    "  inner_join(get_sentiments(\"bing\")) %>%\n",
    "    count(sentiment) \n",
    "\n",
    "head(review_sentiments_32gb)"
   ]
  },
  {
   "cell_type": "markdown",
   "metadata": {},
   "source": [
    "### Looking at the total tweet valance I would choose the 16gb, because it has 80.2% positive sentiment vs 72.4% of the 32gb model."
   ]
  }
 ],
 "metadata": {
  "kernelspec": {
   "display_name": "R",
   "language": "R",
   "name": "ir"
  },
  "language_info": {
   "codemirror_mode": "r",
   "file_extension": ".r",
   "mimetype": "text/x-r-source",
   "name": "R",
   "pygments_lexer": "r",
   "version": "3.6.1"
  }
 },
 "nbformat": 4,
 "nbformat_minor": 4
}
