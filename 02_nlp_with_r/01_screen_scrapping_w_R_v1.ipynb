{
 "cells": [
  {
   "cell_type": "markdown",
   "metadata": {},
   "source": [
    "## Text Analysis Assignment 2 - Screen Scrapping with R\n",
    "#### Derek Wales, MIDS 21"
   ]
  },
  {
   "cell_type": "code",
   "execution_count": 3,
   "metadata": {},
   "outputs": [],
   "source": [
    "options(warn=-1)\n",
    "library(rvest)\n",
    "library(readxl)"
   ]
  },
  {
   "cell_type": "markdown",
   "metadata": {},
   "source": [
    "#### Question 1: Navigate to the wikipedia page on highest grossing films. One there, utlize the inspect function of your web browswer in conjuection with RVest to copy the table of highest grossing films. Print out the head() of this table\n",
    "##### Source: https://en.wikipedia.org/wiki/List_of_highest-grossing_films"
   ]
  },
  {
   "cell_type": "code",
   "execution_count": 4,
   "metadata": {},
   "outputs": [
    {
     "data": {
      "text/plain": [
       "{html_document}\n",
       "<html class=\"client-nojs\" lang=\"en\" dir=\"ltr\">\n",
       "[1] <head>\\n<meta http-equiv=\"Content-Type\" content=\"text/html; charset=UTF-8 ...\n",
       "[2] <body class=\"mediawiki ltr sitedir-ltr mw-hide-empty-elt ns-0 ns-subject  ..."
      ]
     },
     "metadata": {},
     "output_type": "display_data"
    }
   ],
   "source": [
    "wikipedia_page<-read_html(\"https://en.wikipedia.org/wiki/List_of_highest-grossing_films\")\n",
    "wikipedia_page"
   ]
  },
  {
   "cell_type": "code",
   "execution_count": 5,
   "metadata": {},
   "outputs": [
    {
     "data": {
      "text/html": [
       "<table>\n",
       "<caption>A data.frame: 6 × 5</caption>\n",
       "<thead>\n",
       "\t<tr><th></th><th scope=col>Rank</th><th scope=col>Peak</th><th scope=col>Title</th><th scope=col>Worldwide gross</th><th scope=col>Year</th></tr>\n",
       "\t<tr><th></th><th scope=col>&lt;int&gt;</th><th scope=col>&lt;chr&gt;</th><th scope=col>&lt;chr&gt;</th><th scope=col>&lt;chr&gt;</th><th scope=col>&lt;int&gt;</th></tr>\n",
       "</thead>\n",
       "<tbody>\n",
       "\t<tr><th scope=row>1</th><td>1</td><td>1</td><td>Avengers: Endgame           </td><td>$2,797,800,564</td><td>2019</td></tr>\n",
       "\t<tr><th scope=row>2</th><td>2</td><td>1</td><td>Avatar                      </td><td>$2,790,439,000</td><td>2009</td></tr>\n",
       "\t<tr><th scope=row>3</th><td>3</td><td>1</td><td>Titanic                     </td><td>$2,194,439,542</td><td>1997</td></tr>\n",
       "\t<tr><th scope=row>4</th><td>4</td><td>3</td><td>Star Wars: The Force Awakens</td><td>$2,068,223,624</td><td>2015</td></tr>\n",
       "\t<tr><th scope=row>5</th><td>5</td><td>4</td><td>Avengers: Infinity War      </td><td>$2,048,359,754</td><td>2018</td></tr>\n",
       "\t<tr><th scope=row>6</th><td>6</td><td>3</td><td>Jurassic World              </td><td>$1,671,713,208</td><td>2015</td></tr>\n",
       "</tbody>\n",
       "</table>\n"
      ],
      "text/latex": [
       "A data.frame: 6 × 5\n",
       "\\begin{tabular}{r|lllll}\n",
       "  & Rank & Peak & Title & Worldwide gross & Year\\\\\n",
       "  & <int> & <chr> & <chr> & <chr> & <int>\\\\\n",
       "\\hline\n",
       "\t1 & 1 & 1 & Avengers: Endgame            & \\$2,797,800,564 & 2019\\\\\n",
       "\t2 & 2 & 1 & Avatar                       & \\$2,790,439,000 & 2009\\\\\n",
       "\t3 & 3 & 1 & Titanic                      & \\$2,194,439,542 & 1997\\\\\n",
       "\t4 & 4 & 3 & Star Wars: The Force Awakens & \\$2,068,223,624 & 2015\\\\\n",
       "\t5 & 5 & 4 & Avengers: Infinity War       & \\$2,048,359,754 & 2018\\\\\n",
       "\t6 & 6 & 3 & Jurassic World               & \\$1,671,713,208 & 2015\\\\\n",
       "\\end{tabular}\n"
      ],
      "text/markdown": [
       "\n",
       "A data.frame: 6 × 5\n",
       "\n",
       "| <!--/--> | Rank &lt;int&gt; | Peak &lt;chr&gt; | Title &lt;chr&gt; | Worldwide gross &lt;chr&gt; | Year &lt;int&gt; |\n",
       "|---|---|---|---|---|---|\n",
       "| 1 | 1 | 1 | Avengers: Endgame            | $2,797,800,564 | 2019 |\n",
       "| 2 | 2 | 1 | Avatar                       | $2,790,439,000 | 2009 |\n",
       "| 3 | 3 | 1 | Titanic                      | $2,194,439,542 | 1997 |\n",
       "| 4 | 4 | 3 | Star Wars: The Force Awakens | $2,068,223,624 | 2015 |\n",
       "| 5 | 5 | 4 | Avengers: Infinity War       | $2,048,359,754 | 2018 |\n",
       "| 6 | 6 | 3 | Jurassic World               | $1,671,713,208 | 2015 |\n",
       "\n"
      ],
      "text/plain": [
       "  Rank Peak Title                        Worldwide gross Year\n",
       "1 1    1    Avengers: Endgame            $2,797,800,564  2019\n",
       "2 2    1    Avatar                       $2,790,439,000  2009\n",
       "3 3    1    Titanic                      $2,194,439,542  1997\n",
       "4 4    3    Star Wars: The Force Awakens $2,068,223,624  2015\n",
       "5 5    4    Avengers: Infinity War       $2,048,359,754  2018\n",
       "6 6    3    Jurassic World               $1,671,713,208  2015"
      ]
     },
     "metadata": {},
     "output_type": "display_data"
    }
   ],
   "source": [
    "section_of_wikipedia<-html_node(wikipedia_page, xpath='//*[@id=\"mw-content-text\"]/div/table[1]')\n",
    "health_rankings<-html_table(section_of_wikipedia)\n",
    "head(health_rankings[,(1:5)]) # References column removed for readability"
   ]
  },
  {
   "cell_type": "markdown",
   "metadata": {},
   "source": [
    "#### Question 2: Repeating the steps from question one with RSelenium \n",
    "##### Source: https://en.wikipedia.org/wiki/List_of_highest-grossing_films\n",
    "##### N/A due to issues with docker"
   ]
  },
  {
   "cell_type": "markdown",
   "metadata": {},
   "source": [
    "#### Question 3: Unfortunately data we want isn’t always as nicely structured as a wikipedia table. Navigate to a this blog post about famous movie quotes. Using the Selector Gadget for you browser, pull the first 10 quotes from the list, print the results.\n",
    "##### Source: https://blog.hubspot.com/sales/famous-movie-quotes"
   ]
  },
  {
   "cell_type": "code",
   "execution_count": 6,
   "metadata": {},
   "outputs": [
    {
     "data": {
      "text/html": [
       "<style>\n",
       ".list-inline {list-style: none; margin:0; padding: 0}\n",
       ".list-inline>li {display: inline-block}\n",
       ".list-inline>li:not(:last-child)::after {content: \"\\00b7\"; padding: 0 .5ex}\n",
       "</style>\n",
       "<ol class=list-inline><li>'We\\'re committed to your privacy. HubSpot uses the information you provide to us to contact you about our relevant content, products, and services. You may unsubscribe from these communications at any time. For more information, check out our privacy policy.'</li><li>'1. “May the Force be with you.” -Star Wars, 1977'</li><li>'2. “There\\'s no place like home.” -The Wizard of Oz, 1939'</li><li>'3. “I\\'m the king of the world!” -Titanic, 1997'</li><li>'4. “Carpe diem. Seize the day, boys. Make your lives extraordinary.” -Dead Poets Society, 1989'</li><li>'5. “Elementary, my dear Watson.” -The Adventures of Sherlock Holmes, 1939'</li><li>'6. “It\\'s alive! It\\'s alive!” -Frankenstein, 1931'</li><li>'7. “My mama always said life was like a box of chocolates. You never know what you\\'re gonna get.” -Forrest Gump, 1994'</li><li>'8. “I\\'ll be back.” -The Terminator, 1984'</li><li>'9. “You\\'re gonna need a bigger boat.” -Jaws, 1975'</li><li>'10. “Here\\'s looking at you, kid.” -Casablanca,1942'</li></ol>\n"
      ],
      "text/latex": [
       "\\begin{enumerate*}\n",
       "\\item 'We\\textbackslash{}'re committed to your privacy. HubSpot uses the information you provide to us to contact you about our relevant content, products, and services. You may unsubscribe from these communications at any time. For more information, check out our privacy policy.'\n",
       "\\item '1. “May the Force be with you.” -Star Wars, 1977'\n",
       "\\item '2. “There\\textbackslash{}'s no place like home.” -The Wizard of Oz, 1939'\n",
       "\\item '3. “I\\textbackslash{}'m the king of the world!” -Titanic, 1997'\n",
       "\\item '4. “Carpe diem. Seize the day, boys. Make your lives extraordinary.” -Dead Poets Society, 1989'\n",
       "\\item '5. “Elementary, my dear Watson.” -The Adventures of Sherlock Holmes, 1939'\n",
       "\\item '6. “It\\textbackslash{}'s alive! It\\textbackslash{}'s alive!” -Frankenstein, 1931'\n",
       "\\item '7. “My mama always said life was like a box of chocolates. You never know what you\\textbackslash{}'re gonna get.” -Forrest Gump, 1994'\n",
       "\\item '8. “I\\textbackslash{}'ll be back.” -The Terminator, 1984'\n",
       "\\item '9. “You\\textbackslash{}'re gonna need a bigger boat.” -Jaws, 1975'\n",
       "\\item '10. “Here\\textbackslash{}'s looking at you, kid.” -Casablanca,1942'\n",
       "\\end{enumerate*}\n"
      ],
      "text/markdown": [
       "1. 'We\\'re committed to your privacy. HubSpot uses the information you provide to us to contact you about our relevant content, products, and services. You may unsubscribe from these communications at any time. For more information, check out our privacy policy.'\n",
       "2. '1. “May the Force be with you.” -Star Wars, 1977'\n",
       "3. '2. “There\\'s no place like home.” -The Wizard of Oz, 1939'\n",
       "4. '3. “I\\'m the king of the world!” -Titanic, 1997'\n",
       "5. '4. “Carpe diem. Seize the day, boys. Make your lives extraordinary.” -Dead Poets Society, 1989'\n",
       "6. '5. “Elementary, my dear Watson.” -The Adventures of Sherlock Holmes, 1939'\n",
       "7. '6. “It\\'s alive! It\\'s alive!” -Frankenstein, 1931'\n",
       "8. '7. “My mama always said life was like a box of chocolates. You never know what you\\'re gonna get.” -Forrest Gump, 1994'\n",
       "9. '8. “I\\'ll be back.” -The Terminator, 1984'\n",
       "10. '9. “You\\'re gonna need a bigger boat.” -Jaws, 1975'\n",
       "11. '10. “Here\\'s looking at you, kid.” -Casablanca,1942'\n",
       "\n",
       "\n"
      ],
      "text/plain": [
       " [1] \"We're committed to your privacy. HubSpot uses the information you provide to us to contact you about our relevant content, products, and services. You may unsubscribe from these communications at any time. For more information, check out our privacy policy.\"\n",
       " [2] \"1. “May the Force be with you.” -Star Wars, 1977\"                                                                                                                                                                                                                 \n",
       " [3] \"2. “There's no place like home.” -The Wizard of Oz, 1939\"                                                                                                                                                                                                         \n",
       " [4] \"3. “I'm the king of the world!” -Titanic, 1997\"                                                                                                                                                                                                                   \n",
       " [5] \"4. “Carpe diem. Seize the day, boys. Make your lives extraordinary.” -Dead Poets Society, 1989\"                                                                                                                                                                   \n",
       " [6] \"5. “Elementary, my dear Watson.” -The Adventures of Sherlock Holmes, 1939\"                                                                                                                                                                                        \n",
       " [7] \"6. “It's alive! It's alive!” -Frankenstein, 1931\"                                                                                                                                                                                                                 \n",
       " [8] \"7. “My mama always said life was like a box of chocolates. You never know what you're gonna get.” -Forrest Gump, 1994\"                                                                                                                                            \n",
       " [9] \"8. “I'll be back.” -The Terminator, 1984\"                                                                                                                                                                                                                         \n",
       "[10] \"9. “You're gonna need a bigger boat.” -Jaws, 1975\"                                                                                                                                                                                                                \n",
       "[11] \"10. “Here's looking at you, kid.” -Casablanca,1942\"                                                                                                                                                                                                               "
      ]
     },
     "metadata": {},
     "output_type": "display_data"
    }
   ],
   "source": [
    "movie_quotes<-read_html(\"https://blog.hubspot.com/sales/famous-movie-quotes\")\n",
    "movie_quotes <- html_nodes(movie_quotes, css=\"p:nth-child(6) , p:nth-child(5) , p:nth-child(4) , \n",
    "p:nth-child(7) ,  p:nth-child(8) , p:nth-child(9) , p:nth-child(10) , p:nth-child(11) , p:nth-child(12) , p:nth-child(13)\")\n",
    "html_text(movie_quotes)"
   ]
  },
  {
   "cell_type": "markdown",
   "metadata": {},
   "source": [
    "#### File was written to text and edited in a csv to ensure readability and to remove the embedded privacy statement."
   ]
  },
  {
   "cell_type": "code",
   "execution_count": 7,
   "metadata": {},
   "outputs": [],
   "source": [
    "movie_quotes_string = html_text(movie_quotes)\n",
    "write.table(movie_quotes_string, file=\"movie_quotes.txt\")"
   ]
  },
  {
   "cell_type": "markdown",
   "metadata": {},
   "source": [
    "#### Offline editing complete, file read back into R."
   ]
  },
  {
   "cell_type": "code",
   "execution_count": 9,
   "metadata": {},
   "outputs": [
    {
     "data": {
      "text/html": [
       "<table>\n",
       "<caption>A tibble: 10 × 4</caption>\n",
       "<thead>\n",
       "\t<tr><th scope=col>Ranking</th><th scope=col>Quote</th><th scope=col>Film</th><th scope=col>Year</th></tr>\n",
       "\t<tr><th scope=col>&lt;dbl&gt;</th><th scope=col>&lt;chr&gt;</th><th scope=col>&lt;chr&gt;</th><th scope=col>&lt;dbl&gt;</th></tr>\n",
       "</thead>\n",
       "<tbody>\n",
       "\t<tr><td> 1</td><td>“May the Force be with you.”                                                                  </td><td>Star Wars                        </td><td>1977</td></tr>\n",
       "\t<tr><td> 2</td><td>“There's no place like home.”                                                                 </td><td>The Wizard of Oz                 </td><td>1939</td></tr>\n",
       "\t<tr><td> 3</td><td>“I'm the king of the world!”                                                                  </td><td>Titanic                          </td><td>1997</td></tr>\n",
       "\t<tr><td> 4</td><td>“Carpe diem. Seize the day, boys. Make your lives extraordinary.”                             </td><td>Dead Poets Society               </td><td>1989</td></tr>\n",
       "\t<tr><td> 5</td><td>“Elementary, my dear Watson.”                                                                 </td><td>The Adventures of Sherlock Holmes</td><td>1939</td></tr>\n",
       "\t<tr><td> 6</td><td>“It's alive! It's alive!”                                                                     </td><td>Frankenstein                     </td><td>1931</td></tr>\n",
       "\t<tr><td> 7</td><td>“My mama always said life was like a box of chocolates. You never know what you're gonna get.”</td><td>Forrest Gump                     </td><td>1994</td></tr>\n",
       "\t<tr><td> 8</td><td>“I'll be back.”                                                                               </td><td>The Terminator                   </td><td>1984</td></tr>\n",
       "\t<tr><td> 9</td><td>“You're gonna need a bigger boat.”                                                            </td><td>Jaws                             </td><td>1975</td></tr>\n",
       "\t<tr><td>10</td><td>“Here's looking at you, kid.”                                                                 </td><td>Casablanca                       </td><td>1942</td></tr>\n",
       "</tbody>\n",
       "</table>\n"
      ],
      "text/latex": [
       "A tibble: 10 × 4\n",
       "\\begin{tabular}{llll}\n",
       " Ranking & Quote & Film & Year\\\\\n",
       " <dbl> & <chr> & <chr> & <dbl>\\\\\n",
       "\\hline\n",
       "\t  1 & “May the Force be with you.”                                                                   & Star Wars                         & 1977\\\\\n",
       "\t  2 & “There's no place like home.”                                                                  & The Wizard of Oz                  & 1939\\\\\n",
       "\t  3 & “I'm the king of the world!”                                                                   & Titanic                           & 1997\\\\\n",
       "\t  4 & “Carpe diem. Seize the day, boys. Make your lives extraordinary.”                              & Dead Poets Society                & 1989\\\\\n",
       "\t  5 & “Elementary, my dear Watson.”                                                                  & The Adventures of Sherlock Holmes & 1939\\\\\n",
       "\t  6 & “It's alive! It's alive!”                                                                      & Frankenstein                      & 1931\\\\\n",
       "\t  7 & “My mama always said life was like a box of chocolates. You never know what you're gonna get.” & Forrest Gump                      & 1994\\\\\n",
       "\t  8 & “I'll be back.”                                                                                & The Terminator                    & 1984\\\\\n",
       "\t  9 & “You're gonna need a bigger boat.”                                                             & Jaws                              & 1975\\\\\n",
       "\t 10 & “Here's looking at you, kid.”                                                                  & Casablanca                        & 1942\\\\\n",
       "\\end{tabular}\n"
      ],
      "text/markdown": [
       "\n",
       "A tibble: 10 × 4\n",
       "\n",
       "| Ranking &lt;dbl&gt; | Quote &lt;chr&gt; | Film &lt;chr&gt; | Year &lt;dbl&gt; |\n",
       "|---|---|---|---|\n",
       "|  1 | “May the Force be with you.”                                                                   | Star Wars                         | 1977 |\n",
       "|  2 | “There's no place like home.”                                                                  | The Wizard of Oz                  | 1939 |\n",
       "|  3 | “I'm the king of the world!”                                                                   | Titanic                           | 1997 |\n",
       "|  4 | “Carpe diem. Seize the day, boys. Make your lives extraordinary.”                              | Dead Poets Society                | 1989 |\n",
       "|  5 | “Elementary, my dear Watson.”                                                                  | The Adventures of Sherlock Holmes | 1939 |\n",
       "|  6 | “It's alive! It's alive!”                                                                      | Frankenstein                      | 1931 |\n",
       "|  7 | “My mama always said life was like a box of chocolates. You never know what you're gonna get.” | Forrest Gump                      | 1994 |\n",
       "|  8 | “I'll be back.”                                                                                | The Terminator                    | 1984 |\n",
       "|  9 | “You're gonna need a bigger boat.”                                                             | Jaws                              | 1975 |\n",
       "| 10 | “Here's looking at you, kid.”                                                                  | Casablanca                        | 1942 |\n",
       "\n"
      ],
      "text/plain": [
       "   Ranking\n",
       "1   1     \n",
       "2   2     \n",
       "3   3     \n",
       "4   4     \n",
       "5   5     \n",
       "6   6     \n",
       "7   7     \n",
       "8   8     \n",
       "9   9     \n",
       "10 10     \n",
       "   Quote                                                                                         \n",
       "1  “May the Force be with you.”                                                                  \n",
       "2  “There's no place like home.”                                                                 \n",
       "3  “I'm the king of the world!”                                                                  \n",
       "4  “Carpe diem. Seize the day, boys. Make your lives extraordinary.”                             \n",
       "5  “Elementary, my dear Watson.”                                                                 \n",
       "6  “It's alive! It's alive!”                                                                     \n",
       "7  “My mama always said life was like a box of chocolates. You never know what you're gonna get.”\n",
       "8  “I'll be back.”                                                                               \n",
       "9  “You're gonna need a bigger boat.”                                                            \n",
       "10 “Here's looking at you, kid.”                                                                 \n",
       "   Film                              Year\n",
       "1  Star Wars                         1977\n",
       "2  The Wizard of Oz                  1939\n",
       "3  Titanic                           1997\n",
       "4  Dead Poets Society                1989\n",
       "5  The Adventures of Sherlock Holmes 1939\n",
       "6  Frankenstein                      1931\n",
       "7  Forrest Gump                      1994\n",
       "8  The Terminator                    1984\n",
       "9  Jaws                              1975\n",
       "10 Casablanca                        1942"
      ]
     },
     "metadata": {},
     "output_type": "display_data"
    }
   ],
   "source": [
    "df <- read_excel('_data//movie_quotes_5.xlsx')\n",
    "head(df, 10)"
   ]
  }
 ],
 "metadata": {
  "kernelspec": {
   "display_name": "R",
   "language": "R",
   "name": "ir"
  },
  "language_info": {
   "codemirror_mode": "r",
   "file_extension": ".r",
   "mimetype": "text/x-r-source",
   "name": "R",
   "pygments_lexer": "r",
   "version": "3.6.1"
  }
 },
 "nbformat": 4,
 "nbformat_minor": 4
}
