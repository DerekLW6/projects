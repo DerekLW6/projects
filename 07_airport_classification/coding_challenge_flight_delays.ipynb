{
 "cells": [
  {
   "cell_type": "markdown",
   "metadata": {},
   "source": [
    "## Airport Delays - Challenge \n",
    "### Derek Wales MIDS 21"
   ]
  },
  {
   "cell_type": "markdown",
   "metadata": {},
   "source": [
    "#### Deliverables:\n",
    "##### Better understand the challenges or insights from the raw data (EDA)\n",
    "##### A Model that predicts whether or not a departing flight will be delayed\n",
    "##### Summary of insights and recommendations \n",
    "##### List way ahead for the Data Science Team"
   ]
  },
  {
   "cell_type": "code",
   "execution_count": 1,
   "metadata": {},
   "outputs": [],
   "source": [
    "# Visualization Libraries\n",
    "import matplotlib.pyplot as plt\n",
    "import seaborn as sns\n",
    "plt.style.use('ggplot')\n",
    "\n",
    "# Data analysis\n",
    "import pandas as pd\n",
    "import numpy as np\n",
    "\n",
    "# Hiding warnings\n",
    "import warnings\n",
    "warnings.filterwarnings(\"ignore\")"
   ]
  },
  {
   "cell_type": "code",
   "execution_count": 2,
   "metadata": {},
   "outputs": [
    {
     "data": {
      "text/html": [
       "<div>\n",
       "<style scoped>\n",
       "    .dataframe tbody tr th:only-of-type {\n",
       "        vertical-align: middle;\n",
       "    }\n",
       "\n",
       "    .dataframe tbody tr th {\n",
       "        vertical-align: top;\n",
       "    }\n",
       "\n",
       "    .dataframe thead th {\n",
       "        text-align: right;\n",
       "    }\n",
       "</style>\n",
       "<table border=\"1\" class=\"dataframe\">\n",
       "  <thead>\n",
       "    <tr style=\"text-align: right;\">\n",
       "      <th></th>\n",
       "      <th>Unnamed: 0</th>\n",
       "      <th>airport</th>\n",
       "      <th>time</th>\n",
       "      <th>summary</th>\n",
       "      <th>precipIntensity</th>\n",
       "      <th>precipProbability</th>\n",
       "      <th>temperature</th>\n",
       "      <th>apparentTemperature</th>\n",
       "      <th>dewPoint</th>\n",
       "      <th>humidity</th>\n",
       "      <th>...</th>\n",
       "      <th>windSpeed</th>\n",
       "      <th>windGust</th>\n",
       "      <th>windBearing</th>\n",
       "      <th>cloudCover</th>\n",
       "      <th>uvIndex</th>\n",
       "      <th>visibility</th>\n",
       "      <th>ozone</th>\n",
       "      <th>precipType</th>\n",
       "      <th>precipAccumulation</th>\n",
       "      <th>time2</th>\n",
       "    </tr>\n",
       "  </thead>\n",
       "  <tbody>\n",
       "    <tr>\n",
       "      <th>0</th>\n",
       "      <td>1</td>\n",
       "      <td>Highland</td>\n",
       "      <td>2019-11-30 00:00:00</td>\n",
       "      <td>Overcast</td>\n",
       "      <td>0.0000</td>\n",
       "      <td>0.00</td>\n",
       "      <td>37.30</td>\n",
       "      <td>32.11</td>\n",
       "      <td>32.47</td>\n",
       "      <td>0.82</td>\n",
       "      <td>...</td>\n",
       "      <td>6.70</td>\n",
       "      <td>8.06</td>\n",
       "      <td>141.090120</td>\n",
       "      <td>1.00</td>\n",
       "      <td>0</td>\n",
       "      <td>10.0</td>\n",
       "      <td>309.69</td>\n",
       "      <td>NaN</td>\n",
       "      <td>NaN</td>\n",
       "      <td>2019-11-30 00:00:00</td>\n",
       "    </tr>\n",
       "    <tr>\n",
       "      <th>1</th>\n",
       "      <td>2</td>\n",
       "      <td>Highland</td>\n",
       "      <td>2019-11-30 01:00:00</td>\n",
       "      <td>Possible Drizzle</td>\n",
       "      <td>0.0018</td>\n",
       "      <td>0.35</td>\n",
       "      <td>37.74</td>\n",
       "      <td>33.16</td>\n",
       "      <td>32.10</td>\n",
       "      <td>0.80</td>\n",
       "      <td>...</td>\n",
       "      <td>5.77</td>\n",
       "      <td>7.58</td>\n",
       "      <td>110.003815</td>\n",
       "      <td>0.95</td>\n",
       "      <td>0</td>\n",
       "      <td>10.0</td>\n",
       "      <td>309.09</td>\n",
       "      <td>rain</td>\n",
       "      <td>NaN</td>\n",
       "      <td>2019-11-30 01:00:00</td>\n",
       "    </tr>\n",
       "    <tr>\n",
       "      <th>2</th>\n",
       "      <td>3</td>\n",
       "      <td>Highland</td>\n",
       "      <td>2019-11-30 02:00:00</td>\n",
       "      <td>Possible Drizzle</td>\n",
       "      <td>0.0062</td>\n",
       "      <td>0.54</td>\n",
       "      <td>37.60</td>\n",
       "      <td>31.13</td>\n",
       "      <td>32.41</td>\n",
       "      <td>0.83</td>\n",
       "      <td>...</td>\n",
       "      <td>8.04</td>\n",
       "      <td>8.57</td>\n",
       "      <td>112.053620</td>\n",
       "      <td>1.00</td>\n",
       "      <td>0</td>\n",
       "      <td>10.0</td>\n",
       "      <td>308.70</td>\n",
       "      <td>rain</td>\n",
       "      <td>NaN</td>\n",
       "      <td>2019-11-30 02:00:00</td>\n",
       "    </tr>\n",
       "  </tbody>\n",
       "</table>\n",
       "<p>3 rows × 21 columns</p>\n",
       "</div>"
      ],
      "text/plain": [
       "   Unnamed: 0   airport                 time           summary  \\\n",
       "0           1  Highland  2019-11-30 00:00:00          Overcast   \n",
       "1           2  Highland  2019-11-30 01:00:00  Possible Drizzle   \n",
       "2           3  Highland  2019-11-30 02:00:00  Possible Drizzle   \n",
       "\n",
       "   precipIntensity  precipProbability  temperature  apparentTemperature  \\\n",
       "0           0.0000               0.00        37.30                32.11   \n",
       "1           0.0018               0.35        37.74                33.16   \n",
       "2           0.0062               0.54        37.60                31.13   \n",
       "\n",
       "   dewPoint  humidity  ...  windSpeed  windGust  windBearing  cloudCover  \\\n",
       "0     32.47      0.82  ...       6.70      8.06   141.090120        1.00   \n",
       "1     32.10      0.80  ...       5.77      7.58   110.003815        0.95   \n",
       "2     32.41      0.83  ...       8.04      8.57   112.053620        1.00   \n",
       "\n",
       "   uvIndex  visibility   ozone  precipType precipAccumulation  \\\n",
       "0        0        10.0  309.69         NaN                NaN   \n",
       "1        0        10.0  309.09        rain                NaN   \n",
       "2        0        10.0  308.70        rain                NaN   \n",
       "\n",
       "                 time2  \n",
       "0  2019-11-30 00:00:00  \n",
       "1  2019-11-30 01:00:00  \n",
       "2  2019-11-30 02:00:00  \n",
       "\n",
       "[3 rows x 21 columns]"
      ]
     },
     "execution_count": 2,
     "metadata": {},
     "output_type": "execute_result"
    }
   ],
   "source": [
    "weather_df = pd.read_csv('weather.csv')\n",
    "weather_df.head(3)"
   ]
  },
  {
   "cell_type": "code",
   "execution_count": 5,
   "metadata": {},
   "outputs": [
    {
     "name": "stdout",
     "output_type": "stream",
     "text": [
      "<class 'pandas.core.frame.DataFrame'>\n",
      "RangeIndex: 1536 entries, 0 to 1535\n",
      "Data columns (total 21 columns):\n",
      " #   Column               Non-Null Count  Dtype  \n",
      "---  ------               --------------  -----  \n",
      " 0   Unnamed: 0           1536 non-null   int64  \n",
      " 1   airport              1536 non-null   object \n",
      " 2   time                 1536 non-null   object \n",
      " 3   summary              1536 non-null   object \n",
      " 4   precipIntensity      1536 non-null   float64\n",
      " 5   precipProbability    1536 non-null   float64\n",
      " 6   temperature          1536 non-null   float64\n",
      " 7   apparentTemperature  1536 non-null   float64\n",
      " 8   dewPoint             1536 non-null   float64\n",
      " 9   humidity             1536 non-null   float64\n",
      " 10  pressure             1536 non-null   float64\n",
      " 11  windSpeed            1536 non-null   float64\n",
      " 12  windGust             1536 non-null   float64\n",
      " 13  windBearing          1536 non-null   float64\n",
      " 14  cloudCover           1536 non-null   float64\n",
      " 15  uvIndex              1536 non-null   int64  \n",
      " 16  visibility           1536 non-null   float64\n",
      " 17  ozone                1536 non-null   float64\n",
      " 18  precipType           316 non-null    object \n",
      " 19  precipAccumulation   81 non-null     float64\n",
      " 20  time2                1536 non-null   object \n",
      "dtypes: float64(14), int64(2), object(5)\n",
      "memory usage: 252.1+ KB\n"
     ]
    }
   ],
   "source": [
    "weather_df.info()"
   ]
  },
  {
   "cell_type": "code",
   "execution_count": 6,
   "metadata": {},
   "outputs": [
    {
     "data": {
      "text/html": [
       "<div>\n",
       "<style scoped>\n",
       "    .dataframe tbody tr th:only-of-type {\n",
       "        vertical-align: middle;\n",
       "    }\n",
       "\n",
       "    .dataframe tbody tr th {\n",
       "        vertical-align: top;\n",
       "    }\n",
       "\n",
       "    .dataframe thead th {\n",
       "        text-align: right;\n",
       "    }\n",
       "</style>\n",
       "<table border=\"1\" class=\"dataframe\">\n",
       "  <thead>\n",
       "    <tr style=\"text-align: right;\">\n",
       "      <th></th>\n",
       "      <th>Unnamed: 0</th>\n",
       "      <th>precipIntensity</th>\n",
       "      <th>precipProbability</th>\n",
       "      <th>temperature</th>\n",
       "      <th>apparentTemperature</th>\n",
       "      <th>dewPoint</th>\n",
       "      <th>humidity</th>\n",
       "      <th>pressure</th>\n",
       "      <th>windSpeed</th>\n",
       "      <th>windGust</th>\n",
       "      <th>windBearing</th>\n",
       "      <th>cloudCover</th>\n",
       "      <th>uvIndex</th>\n",
       "      <th>visibility</th>\n",
       "      <th>ozone</th>\n",
       "      <th>precipAccumulation</th>\n",
       "    </tr>\n",
       "  </thead>\n",
       "  <tbody>\n",
       "    <tr>\n",
       "      <th>count</th>\n",
       "      <td>1536.000000</td>\n",
       "      <td>1536.000000</td>\n",
       "      <td>1536.000000</td>\n",
       "      <td>1536.000000</td>\n",
       "      <td>1536.000000</td>\n",
       "      <td>1536.000000</td>\n",
       "      <td>1536.000000</td>\n",
       "      <td>1536.000000</td>\n",
       "      <td>1536.000000</td>\n",
       "      <td>1536.000000</td>\n",
       "      <td>1536.000000</td>\n",
       "      <td>1536.000000</td>\n",
       "      <td>1536.000000</td>\n",
       "      <td>1536.000000</td>\n",
       "      <td>1536.000000</td>\n",
       "      <td>81.000000</td>\n",
       "    </tr>\n",
       "    <tr>\n",
       "      <th>mean</th>\n",
       "      <td>768.500000</td>\n",
       "      <td>0.003304</td>\n",
       "      <td>0.117331</td>\n",
       "      <td>35.510918</td>\n",
       "      <td>29.115749</td>\n",
       "      <td>25.139629</td>\n",
       "      <td>0.675007</td>\n",
       "      <td>1016.511283</td>\n",
       "      <td>9.527930</td>\n",
       "      <td>11.326413</td>\n",
       "      <td>228.107328</td>\n",
       "      <td>0.598086</td>\n",
       "      <td>0.210938</td>\n",
       "      <td>9.083046</td>\n",
       "      <td>333.793210</td>\n",
       "      <td>0.044423</td>\n",
       "    </tr>\n",
       "    <tr>\n",
       "      <th>std</th>\n",
       "      <td>443.549321</td>\n",
       "      <td>0.012533</td>\n",
       "      <td>0.303385</td>\n",
       "      <td>9.452021</td>\n",
       "      <td>12.087124</td>\n",
       "      <td>12.464821</td>\n",
       "      <td>0.155994</td>\n",
       "      <td>10.804320</td>\n",
       "      <td>4.448901</td>\n",
       "      <td>6.424565</td>\n",
       "      <td>82.520152</td>\n",
       "      <td>0.372036</td>\n",
       "      <td>0.420684</td>\n",
       "      <td>2.194884</td>\n",
       "      <td>30.406867</td>\n",
       "      <td>0.062452</td>\n",
       "    </tr>\n",
       "    <tr>\n",
       "      <th>min</th>\n",
       "      <td>1.000000</td>\n",
       "      <td>0.000000</td>\n",
       "      <td>0.000000</td>\n",
       "      <td>11.530000</td>\n",
       "      <td>-2.150000</td>\n",
       "      <td>-13.040000</td>\n",
       "      <td>0.220000</td>\n",
       "      <td>985.900000</td>\n",
       "      <td>0.120000</td>\n",
       "      <td>0.260000</td>\n",
       "      <td>0.007128</td>\n",
       "      <td>0.000000</td>\n",
       "      <td>0.000000</td>\n",
       "      <td>0.498000</td>\n",
       "      <td>268.570000</td>\n",
       "      <td>0.001400</td>\n",
       "    </tr>\n",
       "    <tr>\n",
       "      <th>25%</th>\n",
       "      <td>384.750000</td>\n",
       "      <td>0.000000</td>\n",
       "      <td>0.000000</td>\n",
       "      <td>29.850000</td>\n",
       "      <td>21.665000</td>\n",
       "      <td>17.982500</td>\n",
       "      <td>0.570000</td>\n",
       "      <td>1009.160000</td>\n",
       "      <td>6.460000</td>\n",
       "      <td>7.167500</td>\n",
       "      <td>190.030115</td>\n",
       "      <td>0.190000</td>\n",
       "      <td>0.000000</td>\n",
       "      <td>9.967750</td>\n",
       "      <td>310.827500</td>\n",
       "      <td>0.005600</td>\n",
       "    </tr>\n",
       "    <tr>\n",
       "      <th>50%</th>\n",
       "      <td>768.500000</td>\n",
       "      <td>0.000000</td>\n",
       "      <td>0.000000</td>\n",
       "      <td>35.150000</td>\n",
       "      <td>28.445000</td>\n",
       "      <td>25.405000</td>\n",
       "      <td>0.700000</td>\n",
       "      <td>1018.075000</td>\n",
       "      <td>9.150000</td>\n",
       "      <td>10.250000</td>\n",
       "      <td>234.514672</td>\n",
       "      <td>0.690000</td>\n",
       "      <td>0.000000</td>\n",
       "      <td>10.000000</td>\n",
       "      <td>332.660000</td>\n",
       "      <td>0.016100</td>\n",
       "    </tr>\n",
       "    <tr>\n",
       "      <th>75%</th>\n",
       "      <td>1152.250000</td>\n",
       "      <td>0.000000</td>\n",
       "      <td>0.000000</td>\n",
       "      <td>40.490000</td>\n",
       "      <td>35.472500</td>\n",
       "      <td>32.330000</td>\n",
       "      <td>0.800000</td>\n",
       "      <td>1024.320000</td>\n",
       "      <td>12.100000</td>\n",
       "      <td>13.810000</td>\n",
       "      <td>291.075677</td>\n",
       "      <td>0.980000</td>\n",
       "      <td>0.000000</td>\n",
       "      <td>10.000000</td>\n",
       "      <td>353.605000</td>\n",
       "      <td>0.060000</td>\n",
       "    </tr>\n",
       "    <tr>\n",
       "      <th>max</th>\n",
       "      <td>1536.000000</td>\n",
       "      <td>0.129200</td>\n",
       "      <td>1.000000</td>\n",
       "      <td>62.120000</td>\n",
       "      <td>62.140000</td>\n",
       "      <td>55.840000</td>\n",
       "      <td>1.000000</td>\n",
       "      <td>1040.360000</td>\n",
       "      <td>24.770000</td>\n",
       "      <td>36.970000</td>\n",
       "      <td>359.077229</td>\n",
       "      <td>1.000000</td>\n",
       "      <td>2.000000</td>\n",
       "      <td>10.000000</td>\n",
       "      <td>423.560000</td>\n",
       "      <td>0.356200</td>\n",
       "    </tr>\n",
       "  </tbody>\n",
       "</table>\n",
       "</div>"
      ],
      "text/plain": [
       "        Unnamed: 0  precipIntensity  precipProbability  temperature  \\\n",
       "count  1536.000000      1536.000000        1536.000000  1536.000000   \n",
       "mean    768.500000         0.003304           0.117331    35.510918   \n",
       "std     443.549321         0.012533           0.303385     9.452021   \n",
       "min       1.000000         0.000000           0.000000    11.530000   \n",
       "25%     384.750000         0.000000           0.000000    29.850000   \n",
       "50%     768.500000         0.000000           0.000000    35.150000   \n",
       "75%    1152.250000         0.000000           0.000000    40.490000   \n",
       "max    1536.000000         0.129200           1.000000    62.120000   \n",
       "\n",
       "       apparentTemperature     dewPoint     humidity     pressure  \\\n",
       "count          1536.000000  1536.000000  1536.000000  1536.000000   \n",
       "mean             29.115749    25.139629     0.675007  1016.511283   \n",
       "std              12.087124    12.464821     0.155994    10.804320   \n",
       "min              -2.150000   -13.040000     0.220000   985.900000   \n",
       "25%              21.665000    17.982500     0.570000  1009.160000   \n",
       "50%              28.445000    25.405000     0.700000  1018.075000   \n",
       "75%              35.472500    32.330000     0.800000  1024.320000   \n",
       "max              62.140000    55.840000     1.000000  1040.360000   \n",
       "\n",
       "         windSpeed     windGust  windBearing   cloudCover      uvIndex  \\\n",
       "count  1536.000000  1536.000000  1536.000000  1536.000000  1536.000000   \n",
       "mean      9.527930    11.326413   228.107328     0.598086     0.210938   \n",
       "std       4.448901     6.424565    82.520152     0.372036     0.420684   \n",
       "min       0.120000     0.260000     0.007128     0.000000     0.000000   \n",
       "25%       6.460000     7.167500   190.030115     0.190000     0.000000   \n",
       "50%       9.150000    10.250000   234.514672     0.690000     0.000000   \n",
       "75%      12.100000    13.810000   291.075677     0.980000     0.000000   \n",
       "max      24.770000    36.970000   359.077229     1.000000     2.000000   \n",
       "\n",
       "        visibility        ozone  precipAccumulation  \n",
       "count  1536.000000  1536.000000           81.000000  \n",
       "mean      9.083046   333.793210            0.044423  \n",
       "std       2.194884    30.406867            0.062452  \n",
       "min       0.498000   268.570000            0.001400  \n",
       "25%       9.967750   310.827500            0.005600  \n",
       "50%      10.000000   332.660000            0.016100  \n",
       "75%      10.000000   353.605000            0.060000  \n",
       "max      10.000000   423.560000            0.356200  "
      ]
     },
     "execution_count": 6,
     "metadata": {},
     "output_type": "execute_result"
    }
   ],
   "source": [
    "weather_df.describe()"
   ]
  },
  {
   "cell_type": "code",
   "execution_count": 7,
   "metadata": {},
   "outputs": [],
   "source": [
    "# Creating an expected rain column\n",
    "weather_df['expected_rain'] = weather_df['precipIntensity'] * weather_df['precipProbability']"
   ]
  },
  {
   "cell_type": "code",
   "execution_count": 8,
   "metadata": {},
   "outputs": [
    {
     "data": {
      "text/html": [
       "<div>\n",
       "<style scoped>\n",
       "    .dataframe tbody tr th:only-of-type {\n",
       "        vertical-align: middle;\n",
       "    }\n",
       "\n",
       "    .dataframe tbody tr th {\n",
       "        vertical-align: top;\n",
       "    }\n",
       "\n",
       "    .dataframe thead th {\n",
       "        text-align: right;\n",
       "    }\n",
       "</style>\n",
       "<table border=\"1\" class=\"dataframe\">\n",
       "  <thead>\n",
       "    <tr style=\"text-align: right;\">\n",
       "      <th></th>\n",
       "      <th>Airline</th>\n",
       "      <th>Flight_Number</th>\n",
       "      <th>Plane_ID</th>\n",
       "      <th>FlightDate</th>\n",
       "      <th>Origin_Airport</th>\n",
       "      <th>Destination_Airport</th>\n",
       "      <th>Flight_Distance</th>\n",
       "      <th>Scheduled_Departure_Time</th>\n",
       "      <th>Actual_Departure_Time</th>\n",
       "      <th>Departure_Delay_Minutes</th>\n",
       "      <th>Departure_Taxi</th>\n",
       "      <th>Departure_WheelsOff</th>\n",
       "      <th>Scheduled_Arrival_Time</th>\n",
       "      <th>Actual_Arrival_Time</th>\n",
       "      <th>Arrival_Delay_Minutes</th>\n",
       "      <th>Arrival_Taxi</th>\n",
       "      <th>Arrival_WheelsOn</th>\n",
       "      <th>Delay_Reason</th>\n",
       "    </tr>\n",
       "  </thead>\n",
       "  <tbody>\n",
       "    <tr>\n",
       "      <th>0</th>\n",
       "      <td>TR</td>\n",
       "      <td>4135</td>\n",
       "      <td>GJLOAB</td>\n",
       "      <td>2019-12-01</td>\n",
       "      <td>IYF</td>\n",
       "      <td>HIX</td>\n",
       "      <td>678.0</td>\n",
       "      <td>1</td>\n",
       "      <td>103.0</td>\n",
       "      <td>62.0</td>\n",
       "      <td>15.0</td>\n",
       "      <td>118.0</td>\n",
       "      <td>127</td>\n",
       "      <td>219.0</td>\n",
       "      <td>52.0</td>\n",
       "      <td>7.0</td>\n",
       "      <td>212.0</td>\n",
       "      <td>LateAircraft</td>\n",
       "    </tr>\n",
       "    <tr>\n",
       "      <th>1</th>\n",
       "      <td>TR</td>\n",
       "      <td>3776</td>\n",
       "      <td>GDISCI</td>\n",
       "      <td>2019-12-01</td>\n",
       "      <td>HEN</td>\n",
       "      <td>HIX</td>\n",
       "      <td>1700.0</td>\n",
       "      <td>10</td>\n",
       "      <td>25.0</td>\n",
       "      <td>15.0</td>\n",
       "      <td>21.0</td>\n",
       "      <td>46.0</td>\n",
       "      <td>616</td>\n",
       "      <td>624.0</td>\n",
       "      <td>8.0</td>\n",
       "      <td>27.0</td>\n",
       "      <td>557.0</td>\n",
       "      <td>NaN</td>\n",
       "    </tr>\n",
       "    <tr>\n",
       "      <th>2</th>\n",
       "      <td>RO</td>\n",
       "      <td>4754</td>\n",
       "      <td>GHHWLL</td>\n",
       "      <td>2019-12-01</td>\n",
       "      <td>HIX</td>\n",
       "      <td>IZN</td>\n",
       "      <td>413.0</td>\n",
       "      <td>10</td>\n",
       "      <td>10.0</td>\n",
       "      <td>0.0</td>\n",
       "      <td>15.0</td>\n",
       "      <td>25.0</td>\n",
       "      <td>242</td>\n",
       "      <td>227.0</td>\n",
       "      <td>0.0</td>\n",
       "      <td>5.0</td>\n",
       "      <td>222.0</td>\n",
       "      <td>NaN</td>\n",
       "    </tr>\n",
       "  </tbody>\n",
       "</table>\n",
       "</div>"
      ],
      "text/plain": [
       "  Airline  Flight_Number Plane_ID  FlightDate Origin_Airport  \\\n",
       "0      TR           4135   GJLOAB  2019-12-01            IYF   \n",
       "1      TR           3776   GDISCI  2019-12-01            HEN   \n",
       "2      RO           4754   GHHWLL  2019-12-01            HIX   \n",
       "\n",
       "  Destination_Airport  Flight_Distance  Scheduled_Departure_Time  \\\n",
       "0                 HIX            678.0                         1   \n",
       "1                 HIX           1700.0                        10   \n",
       "2                 IZN            413.0                        10   \n",
       "\n",
       "   Actual_Departure_Time  Departure_Delay_Minutes  Departure_Taxi  \\\n",
       "0                  103.0                     62.0            15.0   \n",
       "1                   25.0                     15.0            21.0   \n",
       "2                   10.0                      0.0            15.0   \n",
       "\n",
       "   Departure_WheelsOff  Scheduled_Arrival_Time  Actual_Arrival_Time  \\\n",
       "0                118.0                     127                219.0   \n",
       "1                 46.0                     616                624.0   \n",
       "2                 25.0                     242                227.0   \n",
       "\n",
       "   Arrival_Delay_Minutes  Arrival_Taxi  Arrival_WheelsOn  Delay_Reason  \n",
       "0                   52.0           7.0             212.0  LateAircraft  \n",
       "1                    8.0          27.0             557.0           NaN  \n",
       "2                    0.0           5.0             222.0           NaN  "
      ]
     },
     "execution_count": 8,
     "metadata": {},
     "output_type": "execute_result"
    }
   ],
   "source": [
    "flights_df = pd.read_csv('Flight_on_time_HIX.csv')\n",
    "flights_df.head(3)"
   ]
  },
  {
   "cell_type": "code",
   "execution_count": 9,
   "metadata": {},
   "outputs": [
    {
     "data": {
      "text/plain": [
       "array(['LateAircraft', 'on_time', 'Weather', 'Carrier', 'NAS', 'Security'],\n",
       "      dtype=object)"
      ]
     },
     "execution_count": 9,
     "metadata": {},
     "output_type": "execute_result"
    }
   ],
   "source": [
    "# Replacing NaN with on time\n",
    "flights_df['Delay_Reason'].fillna('on_time', inplace=True)\n",
    "flights_df['Delay_Reason'].unique()"
   ]
  },
  {
   "cell_type": "code",
   "execution_count": 11,
   "metadata": {},
   "outputs": [],
   "source": [
    "# flights_df.columns"
   ]
  },
  {
   "cell_type": "code",
   "execution_count": 12,
   "metadata": {},
   "outputs": [
    {
     "data": {
      "text/plain": [
       "(14081, 18)"
      ]
     },
     "execution_count": 12,
     "metadata": {},
     "output_type": "execute_result"
    }
   ],
   "source": [
    "# Flights delayed\n",
    "delayed_flights = flights_df[flights_df['Delay_Reason'] != 'on_time']\n",
    "delayed_flights.shape"
   ]
  },
  {
   "cell_type": "code",
   "execution_count": 13,
   "metadata": {},
   "outputs": [
    {
     "data": {
      "image/png": "[encoded data removed]",
      "text/plain": [
       "<Figure size 720x504 with 1 Axes>"
      ]
     },
     "metadata": {},
     "output_type": "display_data"
    }
   ],
   "source": [
    "# Viewing on time vs types of delay\n",
    "plt.figure(figsize = (10,7))\n",
    "ax = sns.countplot(x=\"Delay_Reason\", data=flights_df)"
   ]
  },
  {
   "cell_type": "code",
   "execution_count": 14,
   "metadata": {},
   "outputs": [
    {
     "data": {
      "image/png": "[encoded data removed]",
      "text/plain": [
       "<Figure size 720x504 with 1 Axes>"
      ]
     },
     "metadata": {},
     "output_type": "display_data"
    }
   ],
   "source": [
    "# Plotting the delayed flights\n",
    "plt.figure(figsize = (10,7))\n",
    "ax = sns.countplot(x=\"Delay_Reason\", data=delayed_flights)"
   ]
  },
  {
   "cell_type": "code",
   "execution_count": 15,
   "metadata": {},
   "outputs": [
    {
     "data": {
      "text/plain": [
       "LateAircraft    0.410482\n",
       "NAS             0.318159\n",
       "Carrier         0.235779\n",
       "Weather         0.034941\n",
       "Security        0.000639\n",
       "Name: Delay_Reason, dtype: float64"
      ]
     },
     "execution_count": 15,
     "metadata": {},
     "output_type": "execute_result"
    }
   ],
   "source": [
    "delayed_flights.Delay_Reason.value_counts(normalize=True)"
   ]
  },
  {
   "cell_type": "code",
   "execution_count": 16,
   "metadata": {},
   "outputs": [],
   "source": [
    "# Digging down into the late aircraft \n",
    "delayed_flights_late_ac = delayed_flights[delayed_flights['Delay_Reason'] == 'LateAircraft']  "
   ]
  },
  {
   "cell_type": "code",
   "execution_count": 17,
   "metadata": {},
   "outputs": [
    {
     "data": {
      "image/png": "[encoded data removed]",
      "text/plain": [
       "<Figure size 720x504 with 1 Axes>"
      ]
     },
     "metadata": {},
     "output_type": "display_data"
    }
   ],
   "source": [
    "# Checking which providers cause the most \n",
    "plt.figure(figsize = (10,7))\n",
    "ax = sns.countplot(x=\"Airline\",  data=delayed_flights)"
   ]
  },
  {
   "cell_type": "code",
   "execution_count": 18,
   "metadata": {},
   "outputs": [
    {
     "data": {
      "image/png": "[encoded data removed]",
      "text/plain": [
       "<Figure size 720x504 with 1 Axes>"
      ]
     },
     "metadata": {},
     "output_type": "display_data"
    }
   ],
   "source": [
    "# Count of all fights by airline - This does not suggest that it isan airline specific problem\n",
    "plt.figure(figsize = (10,7))\n",
    "ax = sns.countplot(x=\"Airline\",  data=flights_df)"
   ]
  },
  {
   "cell_type": "code",
   "execution_count": 19,
   "metadata": {},
   "outputs": [],
   "source": [
    "# Creating a day of the week column\n",
    "flights_df['FlightDate'] = pd.to_datetime(flights_df['FlightDate'])\n",
    "flights_df['day_of_week'] = flights_df['FlightDate'].dt.day_name()"
   ]
  },
  {
   "cell_type": "code",
   "execution_count": 20,
   "metadata": {},
   "outputs": [
    {
     "data": {
      "image/png": "[encoded data removed]",
      "text/plain": [
       "<Figure size 1800x576 with 1 Axes>"
      ]
     },
     "metadata": {},
     "output_type": "display_data"
    }
   ],
   "source": [
    "# Plotting the flights by day of the week\n",
    "plt.figure(figsize = (25,8))\n",
    "ax = sns.countplot(x=\"day_of_week\",  data=flights_df)"
   ]
  },
  {
   "cell_type": "code",
   "execution_count": 21,
   "metadata": {},
   "outputs": [
    {
     "data": {
      "image/png": "[encoded data removed]",
      "text/plain": [
       "<Figure size 1800x576 with 1 Axes>"
      ]
     },
     "metadata": {},
     "output_type": "display_data"
    }
   ],
   "source": [
    "# Creating a day of the week column\n",
    "delayed_flights['FlightDate'] = pd.to_datetime(delayed_flights['FlightDate'])\n",
    "delayed_flights['day_of_week'] = delayed_flights['FlightDate'].dt.day_name()\n",
    "\n",
    "# Plotting the delayed flights by day of the week\n",
    "plt.figure(figsize = (25,8))\n",
    "ax = sns.countplot(x=\"day_of_week\",  data=delayed_flights)"
   ]
  },
  {
   "cell_type": "markdown",
   "metadata": {},
   "source": [
    "## Note:\n",
    "### NAS Delays are national aviation systems delays are cause by an number of factors based on the site below\n",
    "### https://www.transtats.bts.gov/OT_Delay/ot_delaycause1.asp?type=5&pn=1"
   ]
  },
  {
   "cell_type": "code",
   "execution_count": 22,
   "metadata": {},
   "outputs": [
    {
     "name": "stdout",
     "output_type": "stream",
     "text": [
      "<class 'pandas.core.frame.DataFrame'>\n",
      "RangeIndex: 65669 entries, 0 to 65668\n",
      "Data columns (total 19 columns):\n",
      " #   Column                    Non-Null Count  Dtype         \n",
      "---  ------                    --------------  -----         \n",
      " 0   Airline                   65669 non-null  object        \n",
      " 1   Flight_Number             65669 non-null  int64         \n",
      " 2   Plane_ID                  65669 non-null  object        \n",
      " 3   FlightDate                65669 non-null  datetime64[ns]\n",
      " 4   Origin_Airport            65669 non-null  object        \n",
      " 5   Destination_Airport       65669 non-null  object        \n",
      " 6   Flight_Distance           65669 non-null  float64       \n",
      " 7   Scheduled_Departure_Time  65669 non-null  int64         \n",
      " 8   Actual_Departure_Time     65669 non-null  float64       \n",
      " 9   Departure_Delay_Minutes   65669 non-null  float64       \n",
      " 10  Departure_Taxi            65669 non-null  float64       \n",
      " 11  Departure_WheelsOff       65669 non-null  float64       \n",
      " 12  Scheduled_Arrival_Time    65669 non-null  int64         \n",
      " 13  Actual_Arrival_Time       65669 non-null  float64       \n",
      " 14  Arrival_Delay_Minutes     65669 non-null  float64       \n",
      " 15  Arrival_Taxi              65669 non-null  float64       \n",
      " 16  Arrival_WheelsOn          65669 non-null  float64       \n",
      " 17  Delay_Reason              65669 non-null  object        \n",
      " 18  day_of_week               65669 non-null  object        \n",
      "dtypes: datetime64[ns](1), float64(9), int64(3), object(6)\n",
      "memory usage: 9.5+ MB\n"
     ]
    }
   ],
   "source": [
    "flights_df.info()"
   ]
  },
  {
   "cell_type": "code",
   "execution_count": 23,
   "metadata": {},
   "outputs": [
    {
     "data": {
      "text/plain": [
       "GFDTTX    72\n",
       "GFHSTX    66\n",
       "GFGVTX    61\n",
       "GFHQTX    59\n",
       "GFGTTX    56\n",
       "          ..\n",
       "GDHQAP     1\n",
       "GGMVWD     1\n",
       "GHHNHK     1\n",
       "GJKWED     1\n",
       "GJJTQZ     1\n",
       "Name: Plane_ID, Length: 2144, dtype: int64"
      ]
     },
     "execution_count": 23,
     "metadata": {},
     "output_type": "execute_result"
    }
   ],
   "source": [
    "# Checking if specific planes are part of the problem\n",
    "delayed_flights.Plane_ID.value_counts()"
   ]
  },
  {
   "cell_type": "code",
   "execution_count": 24,
   "metadata": {},
   "outputs": [
    {
     "name": "stdout",
     "output_type": "stream",
     "text": [
      "Number of samples 65669\n",
      "Number of origin airports 170\n",
      "Number of desination airports 169\n"
     ]
    }
   ],
   "source": [
    "# Checking the balance of destination and orgin airports\n",
    "print(\"Number of samples\", flights_df.shape[0])\n",
    "print(\"Number of origin airports\", len(flights_df.Origin_Airport.unique()))\n",
    "print(\"Number of desination airports\", len(flights_df.Destination_Airport.unique()))"
   ]
  },
  {
   "cell_type": "code",
   "execution_count": 25,
   "metadata": {},
   "outputs": [
    {
     "data": {
      "text/plain": [
       "on_time         51588\n",
       "LateAircraft     5780\n",
       "NAS              4480\n",
       "Carrier          3320\n",
       "Weather           492\n",
       "Security            9\n",
       "Name: Delay_Reason, dtype: int64"
      ]
     },
     "execution_count": 25,
     "metadata": {},
     "output_type": "execute_result"
    }
   ],
   "source": [
    "flights_df['Delay_Reason'].value_counts()"
   ]
  },
  {
   "cell_type": "code",
   "execution_count": 26,
   "metadata": {},
   "outputs": [
    {
     "data": {
      "text/plain": [
       "0    51588\n",
       "1    14081\n",
       "Name: delayed, dtype: int64"
      ]
     },
     "execution_count": 26,
     "metadata": {},
     "output_type": "execute_result"
    }
   ],
   "source": [
    "# Validating the correct number of entries\n",
    "flights_df['delayed'] = np.where(flights_df['Delay_Reason']!='on_time', 1, 0)\n",
    "flights_df['delayed'].value_counts()"
   ]
  },
  {
   "cell_type": "code",
   "execution_count": 27,
   "metadata": {},
   "outputs": [],
   "source": [
    "# Converting the key column to time \n",
    "weather_df['time'] = pd.to_datetime(weather_df['time'])\n",
    "\n",
    "# Keeping on the highland airport\n",
    "weather_df = weather_df[weather_df['airport'] == 'Highland']"
   ]
  },
  {
   "cell_type": "code",
   "execution_count": 28,
   "metadata": {},
   "outputs": [],
   "source": [
    "# weather_df.columns\n",
    "flights_df['FlightDate'] = pd.to_datetime(flights_df['FlightDate'])"
   ]
  },
  {
   "cell_type": "code",
   "execution_count": 29,
   "metadata": {},
   "outputs": [
    {
     "data": {
      "text/plain": [
       "(65669, 42)"
      ]
     },
     "execution_count": 29,
     "metadata": {},
     "output_type": "execute_result"
    }
   ],
   "source": [
    "new_df = pd.merge(flights_df, weather_df, left_on='FlightDate', right_on='time', how='left')\n",
    "new_df.shape"
   ]
  },
  {
   "cell_type": "code",
   "execution_count": 54,
   "metadata": {},
   "outputs": [],
   "source": [
    "# Adding an ROC Function\n",
    "\n",
    "def plot_roc(labels, prediction_scores):\n",
    "    '''\n",
    "    Creates a plot of the Recieving Opering Characteristics (ROC) Curve\n",
    "    using the labels and predictions generated by the classifier.\n",
    "    AOC is the Area under the curve.\n",
    "    '''\n",
    "    fpr, tpr, _ = metrics.roc_curve(labels, prediction_scores, pos_label=1)\n",
    "    auc = metrics.roc_auc_score(labels, prediction_scores)\n",
    "    legend_string = 'AUC = {:0.3f}'.format(auc)\n",
    "    plt.figure(figsize = (12,8))\n",
    "    plt.plot([0,1],[0,1],'--', color='gray', label='Chance')\n",
    "    plt.plot(fpr, tpr, label=legend_string)\n",
    "    plt.xlabel('False Positive Rate')\n",
    "    plt.ylabel('True Positive Rate')\n",
    "    plt.legend()\n",
    "    plt.title('ROC for Model Performance')"
   ]
  },
  {
   "cell_type": "markdown",
   "metadata": {},
   "source": [
    "## Model Building"
   ]
  },
  {
   "cell_type": "code",
   "execution_count": 30,
   "metadata": {},
   "outputs": [],
   "source": [
    "from sklearn import metrics\n",
    "from sklearn.model_selection import train_test_split\n",
    "from sklearn.metrics import accuracy_score\n",
    "from sklearn.metrics import classification_report, confusion_matrix"
   ]
  },
  {
   "cell_type": "markdown",
   "metadata": {},
   "source": [
    "## Random Forest"
   ]
  },
  {
   "cell_type": "code",
   "execution_count": 83,
   "metadata": {},
   "outputs": [],
   "source": [
    "# Getting X and y\n",
    "X = new_df[['Airline', 'Origin_Airport', 'Destination_Airport', 'Flight_Distance', 'Scheduled_Departure_Time', 'day_of_week', \n",
    "                'Departure_Taxi', 'Arrival_Taxi', 'apparentTemperature', 'visibility', 'windSpeed', 'summary', 'uvIndex']]\n",
    "y = new_df['delayed']\n",
    "\n",
    "X_dummies= pd.get_dummies(X, prefix=['Airline', 'Origin_Airport', 'Destination_Airport', 'summary', 'day_of_week'])"
   ]
  },
  {
   "cell_type": "code",
   "execution_count": 84,
   "metadata": {},
   "outputs": [],
   "source": [
    "# Train test split\n",
    "X_train, X_test, y_train, y_test = train_test_split(X_dummies, y, test_size=0.3, random_state=101)"
   ]
  },
  {
   "cell_type": "code",
   "execution_count": 85,
   "metadata": {},
   "outputs": [],
   "source": [
    "from sklearn.ensemble import RandomForestClassifier\n",
    "rand_forest = RandomForestClassifier()\n",
    "\n",
    "# Fitting and Predicting \n",
    "rand_forest.fit(X_train, y_train)\n",
    "pred = rand_forest.predict(X_test)"
   ]
  },
  {
   "cell_type": "code",
   "execution_count": 86,
   "metadata": {},
   "outputs": [
    {
     "name": "stdout",
     "output_type": "stream",
     "text": [
      "Confusion Matrix:\n",
      "[[14901   538]\n",
      " [ 2710  1552]]\n"
     ]
    }
   ],
   "source": [
    "print(\"Confusion Matrix:\")\n",
    "print(confusion_matrix(y_test,pred))"
   ]
  },
  {
   "cell_type": "code",
   "execution_count": 87,
   "metadata": {},
   "outputs": [
    {
     "name": "stdout",
     "output_type": "stream",
     "text": [
      "Classification Report:\n",
      "              precision    recall  f1-score   support\n",
      "\n",
      "           0       0.85      0.97      0.90     15439\n",
      "           1       0.74      0.36      0.49      4262\n",
      "\n",
      "    accuracy                           0.84     19701\n",
      "   macro avg       0.79      0.66      0.70     19701\n",
      "weighted avg       0.82      0.84      0.81     19701\n",
      "\n"
     ]
    }
   ],
   "source": [
    "print('Classification Report:')\n",
    "print(classification_report(y_test,pred))"
   ]
  },
  {
   "cell_type": "code",
   "execution_count": 64,
   "metadata": {},
   "outputs": [
    {
     "data": {
      "text/plain": [
       "(<19701x2327832 sparse matrix of type '<class 'numpy.int64'>'\n",
       " \twith 85082798 stored elements in Compressed Sparse Row format>,\n",
       " array([      0,   22741,   46032,   68747,   92052,  115539,  138752,\n",
       "         162265,  185372,  208631,  232194,  255861,  279302,  302799,\n",
       "         326014,  349929,  373446,  396341,  419358,  442331,  465506,\n",
       "         488997,  512184,  535137,  558264,  581523,  604906,  628233,\n",
       "         651522,  674853,  698082,  720731,  744350,  767625,  791172,\n",
       "         813911,  837082,  860267,  883404,  906875,  930714,  954061,\n",
       "         977508, 1000697, 1023716, 1046989, 1070362, 1094003, 1117182,\n",
       "        1140671, 1164496, 1187991, 1211620, 1234989, 1257934, 1281207,\n",
       "        1304796, 1328033, 1351014, 1374763, 1398074, 1421121, 1444638,\n",
       "        1468163, 1492140, 1514973, 1538330, 1561021, 1583978, 1606813,\n",
       "        1630098, 1653589, 1676596, 1699835, 1723560, 1746559, 1770082,\n",
       "        1793391, 1816438, 1839467, 1862842, 1885719, 1908776, 1931869,\n",
       "        1954926, 1978703, 2001480, 2024689, 2047520, 2070413, 2094428,\n",
       "        2117547, 2141184, 2165235, 2188378, 2211655, 2235134, 2258395,\n",
       "        2281420, 2304681, 2327832], dtype=int32))"
      ]
     },
     "execution_count": 64,
     "metadata": {},
     "output_type": "execute_result"
    }
   ],
   "source": [
    "rand_forest.decision_path(X_test)"
   ]
  },
  {
   "cell_type": "markdown",
   "metadata": {},
   "source": [
    "### Logistic Regression"
   ]
  },
  {
   "cell_type": "code",
   "execution_count": 65,
   "metadata": {},
   "outputs": [
    {
     "data": {
      "text/plain": [
       "LogisticRegression()"
      ]
     },
     "execution_count": 65,
     "metadata": {},
     "output_type": "execute_result"
    }
   ],
   "source": [
    "# importing logistic regression \n",
    "from sklearn.linear_model import LogisticRegression\n",
    "\n",
    "# Instatiating \n",
    "logReg = LogisticRegression()\n",
    "\n",
    "# Fitting the model\n",
    "logReg.fit(X_train, y_train)"
   ]
  },
  {
   "cell_type": "code",
   "execution_count": 66,
   "metadata": {},
   "outputs": [
    {
     "name": "stdout",
     "output_type": "stream",
     "text": [
      "Confusion Matrix:\n",
      "[[15039   400]\n",
      " [ 3210  1052]]\n"
     ]
    }
   ],
   "source": [
    "# Predicting and Making a classification report\n",
    "predictions = logReg.predict(X_test)\n",
    "\n",
    "print('Confusion Matrix:')\n",
    "print(confusion_matrix(y_test,predictions))"
   ]
  },
  {
   "cell_type": "code",
   "execution_count": 68,
   "metadata": {},
   "outputs": [
    {
     "name": "stdout",
     "output_type": "stream",
     "text": [
      "0.8167605705294148\n"
     ]
    }
   ],
   "source": [
    "print(accuracy_score(y_test, predictions))"
   ]
  },
  {
   "cell_type": "code",
   "execution_count": 69,
   "metadata": {},
   "outputs": [
    {
     "name": "stdout",
     "output_type": "stream",
     "text": [
      "\n",
      "The grey line represents a random guess.\n"
     ]
    },
    {
     "data": {
      "image/png": "[encoded data removed]",
      "text/plain": [
       "<Figure size 864x576 with 1 Axes>"
      ]
     },
     "metadata": {},
     "output_type": "display_data"
    }
   ],
   "source": [
    "# ROC Plot\n",
    "print(\"\\nThe grey line represents a random guess.\")\n",
    "plot_roc(y_test,predictions)"
   ]
  },
  {
   "cell_type": "markdown",
   "metadata": {},
   "source": [
    "### SVM Attempt"
   ]
  },
  {
   "cell_type": "code",
   "execution_count": 78,
   "metadata": {},
   "outputs": [],
   "source": [
    "from sklearn import svm\n",
    "\n",
    "clf = svm.SVC()\n",
    "\n",
    "clf.fit(X_train, y_train)\n",
    "\n",
    "pred = clf.predict(X_test)"
   ]
  },
  {
   "cell_type": "code",
   "execution_count": 79,
   "metadata": {},
   "outputs": [
    {
     "name": "stdout",
     "output_type": "stream",
     "text": [
      "Confusion Matrix:\n",
      "[[15439     0]\n",
      " [ 4262     0]]\n",
      "\n",
      "\n",
      "Accuracy Score:\n",
      "0.7836658037663062\n"
     ]
    }
   ],
   "source": [
    "print(\"Confusion Matrix:\")\n",
    "print(confusion_matrix(y_test,pred))\n",
    "print('\\n')\n",
    "print(\"Accuracy Score:\")\n",
    "print(accuracy_score(y_test, pred))"
   ]
  },
  {
   "cell_type": "markdown",
   "metadata": {},
   "source": [
    "### Neural Network"
   ]
  },
  {
   "cell_type": "code",
   "execution_count": 70,
   "metadata": {},
   "outputs": [],
   "source": [
    "from sklearn.preprocessing import StandardScaler\n",
    "from keras.utils import to_categorical"
   ]
  },
  {
   "cell_type": "code",
   "execution_count": 71,
   "metadata": {},
   "outputs": [],
   "source": [
    "# Normalizing the average monthly hours\n",
    "ss = StandardScaler()\n",
    "\n",
    "X_dummies = ss.fit_transform(X_dummies)"
   ]
  },
  {
   "cell_type": "code",
   "execution_count": 72,
   "metadata": {},
   "outputs": [
    {
     "data": {
      "text/plain": [
       "(65669, 378)"
      ]
     },
     "execution_count": 72,
     "metadata": {},
     "output_type": "execute_result"
    }
   ],
   "source": [
    "X_dummies.shape"
   ]
  },
  {
   "cell_type": "code",
   "execution_count": 80,
   "metadata": {},
   "outputs": [],
   "source": [
    "from keras.models import Sequential\n",
    "from keras.layers import Dense\n",
    "from keras.optimizers import Adam\n",
    "\n",
    "model = Sequential()\n",
    "model.add(Dense(40, input_shape=(378,), activation='relu'))\n",
    "model.add(Dense(20, activation='relu'))\n",
    "model.add(Dense(10, activation='relu'))\n",
    "model.add(Dense(5, activation='relu'))\n",
    "model.add(Dense(1, activation='sigmoid'))\n",
    "model.compile(Adam(lr=0.05),\n",
    "              loss='binary_crossentropy',\n",
    "              metrics=['accuracy'])"
   ]
  },
  {
   "cell_type": "code",
   "execution_count": 81,
   "metadata": {},
   "outputs": [
    {
     "name": "stdout",
     "output_type": "stream",
     "text": [
      "Epoch 1/10\n",
      "1006/1006 [==============================] - 3s 3ms/step - loss: 0.5411 - accuracy: 0.7848 - val_loss: 0.5216 - val_accuracy: 0.7847\n",
      "Epoch 2/10\n",
      "1006/1006 [==============================] - 2s 2ms/step - loss: 0.5185 - accuracy: 0.7871 - val_loss: 0.5223 - val_accuracy: 0.7847\n",
      "Epoch 3/10\n",
      "1006/1006 [==============================] - 3s 3ms/step - loss: 0.5186 - accuracy: 0.7871 - val_loss: 0.5226 - val_accuracy: 0.7847\n",
      "Epoch 4/10\n",
      "1006/1006 [==============================] - 3s 3ms/step - loss: 0.5187 - accuracy: 0.7871 - val_loss: 0.5210 - val_accuracy: 0.7847\n",
      "Epoch 5/10\n",
      "1006/1006 [==============================] - 2s 2ms/step - loss: 0.5186 - accuracy: 0.7871 - val_loss: 0.5212 - val_accuracy: 0.7847\n",
      "Epoch 6/10\n",
      "1006/1006 [==============================] - 2s 2ms/step - loss: 0.5186 - accuracy: 0.7871 - val_loss: 0.5210 - val_accuracy: 0.7847\n",
      "Epoch 7/10\n",
      "1006/1006 [==============================] - 3s 3ms/step - loss: 0.5189 - accuracy: 0.7871 - val_loss: 0.5214 - val_accuracy: 0.7847\n",
      "Epoch 8/10\n",
      "1006/1006 [==============================] - 2s 2ms/step - loss: 0.5186 - accuracy: 0.7871 - val_loss: 0.5214 - val_accuracy: 0.7847\n",
      "Epoch 9/10\n",
      "1006/1006 [==============================] - 2s 2ms/step - loss: 0.5186 - accuracy: 0.7871 - val_loss: 0.5234 - val_accuracy: 0.7847\n",
      "Epoch 10/10\n",
      "1006/1006 [==============================] - 2s 2ms/step - loss: 0.5187 - accuracy: 0.7871 - val_loss: 0.5209 - val_accuracy: 0.7847\n"
     ]
    },
    {
     "data": {
      "text/plain": [
       "<tensorflow.python.keras.callbacks.History at 0x1c591f5c8b0>"
      ]
     },
     "execution_count": 81,
     "metadata": {},
     "output_type": "execute_result"
    }
   ],
   "source": [
    "model.fit(X_train, y_train, epochs=10, verbose=1, validation_split=0.3) "
   ]
  },
  {
   "cell_type": "code",
   "execution_count": 76,
   "metadata": {},
   "outputs": [
    {
     "name": "stdout",
     "output_type": "stream",
     "text": [
      "WARNING:tensorflow:From <ipython-input-76-c1cc8d46bfb1>:1: Sequential.predict_classes (from tensorflow.python.keras.engine.sequential) is deprecated and will be removed after 2021-01-01.\n",
      "Instructions for updating:\n",
      "Please use instead:* `np.argmax(model.predict(x), axis=-1)`,   if your model does multi-class classification   (e.g. if it uses a `softmax` last-layer activation).* `(model.predict(x) > 0.5).astype(\"int32\")`,   if your model does binary classification   (e.g. if it uses a `sigmoid` last-layer activation).\n"
     ]
    }
   ],
   "source": [
    "y_pred = model.predict_classes(X_test) "
   ]
  },
  {
   "cell_type": "code",
   "execution_count": 77,
   "metadata": {},
   "outputs": [
    {
     "name": "stdout",
     "output_type": "stream",
     "text": [
      "\n",
      "\n",
      "Confusion Matrix:\n",
      "[[15439     0]\n",
      " [ 4262     0]]\n"
     ]
    }
   ],
   "source": [
    "print('\\n')\n",
    "print(\"Confusion Matrix:\")\n",
    "print(confusion_matrix(y_test,y_pred))"
   ]
  },
  {
   "cell_type": "code",
   "execution_count": 78,
   "metadata": {},
   "outputs": [
    {
     "name": "stdout",
     "output_type": "stream",
     "text": [
      "              precision    recall  f1-score   support\n",
      "\n",
      "           0       0.78      1.00      0.88     15439\n",
      "           1       0.00      0.00      0.00      4262\n",
      "\n",
      "    accuracy                           0.78     19701\n",
      "   macro avg       0.39      0.50      0.44     19701\n",
      "weighted avg       0.61      0.78      0.69     19701\n",
      "\n"
     ]
    }
   ],
   "source": [
    "print(classification_report(y_test, y_pred))"
   ]
  },
  {
   "cell_type": "code",
   "execution_count": 79,
   "metadata": {},
   "outputs": [
    {
     "name": "stdout",
     "output_type": "stream",
     "text": [
      "0.7836658037663062\n"
     ]
    }
   ],
   "source": [
    "print(accuracy_score(y_test, y_pred))"
   ]
  },
  {
   "cell_type": "code",
   "execution_count": 82,
   "metadata": {},
   "outputs": [
    {
     "name": "stdout",
     "output_type": "stream",
     "text": [
      "\n",
      "The grey line represents a random guess.\n"
     ]
    },
    {
     "data": {
      "image/png": "[encoded data removed]",
      "text/plain": [
       "<Figure size 864x576 with 1 Axes>"
      ]
     },
     "metadata": {},
     "output_type": "display_data"
    }
   ],
   "source": [
    "# ROC Plot\n",
    "print(\"\\nThe grey line represents a random guess.\")\n",
    "plot_roc(y_test,y_pred)"
   ]
  },
  {
   "cell_type": "code",
   "execution_count": null,
   "metadata": {},
   "outputs": [],
   "source": []
  }
 ],
 "metadata": {
  "kernelspec": {
   "display_name": "Python 3",
   "language": "python",
   "name": "python3"
  },
  "language_info": {
   "codemirror_mode": {
    "name": "ipython",
    "version": 3
   },
   "file_extension": ".py",
   "mimetype": "text/x-python",
   "name": "python",
   "nbconvert_exporter": "python",
   "pygments_lexer": "ipython3",
   "version": "3.8.3"
  }
 },
 "nbformat": 4,
 "nbformat_minor": 4
}
