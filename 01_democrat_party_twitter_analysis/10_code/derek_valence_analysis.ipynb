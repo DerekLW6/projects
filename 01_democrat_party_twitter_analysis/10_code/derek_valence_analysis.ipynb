{
 "cells": [
  {
   "cell_type": "code",
   "execution_count": 1,
   "metadata": {},
   "outputs": [],
   "source": [
    "# Importing libraries\n",
    "import pandas as pd\n",
    "import numpy as np\n",
    "\n",
    "# Visualization tools\n",
    "import matplotlib.pyplot as plt\n",
    "import seaborn as sns\n",
    "sns.set_style('whitegrid')\n",
    "%matplotlib inline"
   ]
  },
  {
   "cell_type": "code",
   "execution_count": 2,
   "metadata": {},
   "outputs": [],
   "source": [
    "# Natural Language Tookkit stuff\n",
    "import nltk\n",
    "from nltk.sentiment.vader import SentimentIntensityAnalyzer\n",
    "\n",
    "# nltk.download('vader_lexicon')\n",
    "analyser = SentimentIntensityAnalyzer()\n",
    "\n",
    "# References\n",
    "# https://www.kaggle.com/nikhilsable/sentiment-using-airline-tweets-using-vader\n",
    "# https://stackoverflow.com/questions/6181935/how-do-you-create-different-variable-names-while-in-a-loop"
   ]
  },
  {
   "cell_type": "code",
   "execution_count": 3,
   "metadata": {},
   "outputs": [
    {
     "name": "stdout",
     "output_type": "stream",
     "text": [
      "C:\\users\\derek\\Desktop\\MIDS Program\\_MIDs 2nd Semester\\Text Analysis\\Final_Project\\Twitter_Data\\_Github\\00_data\\bernie_valence_only\n"
     ]
    }
   ],
   "source": [
    "# Changing directory\n",
    "%cd ../00_data/bernie_valence_only/"
   ]
  },
  {
   "cell_type": "code",
   "execution_count": 4,
   "metadata": {},
   "outputs": [],
   "source": [
    "# Successfully looped over files and made a dictionary. \n",
    "# This saves all the Bernie Valences Tweets by file number\n",
    "bernie_valence_dict={}\n",
    "file_num = 0\n",
    "files_list0 = []\n",
    "# How to Loop over Files\n",
    "import os \n",
    "for i in os.listdir('C:\\\\Users\\\\derek\\\\Desktop\\\\MIDS Program\\\\_MIDs 2nd Semester\\\\Text Analysis\\\\Final_Project\\\\Twitter_Data\\\\_Github\\\\00_data\\\\bernie_valence_only'):\n",
    "    bernie_valence_dict[file_num] = pd.read_csv(i, error_bad_lines=False, warn_bad_lines=False, encoding = 'ISO-8859-1')\n",
    "    files_list0.append(i)\n",
    "    file_num = file_num + 1  "
   ]
  },
  {
   "cell_type": "code",
   "execution_count": 5,
   "metadata": {},
   "outputs": [
    {
     "name": "stdout",
     "output_type": "stream",
     "text": [
      "For:  bernie_tweets_01MAR20.csv the vader score was 0.1113150250000001\n",
      "For:  bernie_tweets_03MAR20.csv the vader score was 0.07622867719644624\n",
      "For:  bernie_tweets_04MAR20.csv the vader score was 0.1124308191808194\n",
      "For:  bernie_tweets_05MAR20.csv the vader score was 0.13292659627953793\n",
      "For:  bernie_tweets_07MAR20.csv the vader score was 0.02894638764324867\n",
      "For:  bernie_tweets_08MAR20.csv the vader score was 0.05146344410876119\n",
      "For:  bernie_tweets_27FEB20.csv the vader score was 0.07200525920360655\n",
      "For:  bernie_tweets_28FEB20.csv the vader score was 0.036611432850723935\n",
      "For:  bernie_tweets_29FEB20.csv the vader score was 0.07527302798982188\n"
     ]
    }
   ],
   "source": [
    "count = 0 \n",
    "\n",
    "for k, v in bernie_valence_dict.items():\n",
    "    \n",
    "    # Looping over all of the values in the Bernie tweet\n",
    "    i=0 #counter\n",
    "    compval1 = [ ]  #empty list to hold our computed 'compound' VADER scores\n",
    "    \n",
    "    while i < len(v):\n",
    "        \n",
    "        k = analyser.polarity_scores(v.iloc[i]['text'])\n",
    "        compval1.append(k['compound'])\n",
    "        i = i + 1\n",
    "        \n",
    "    #converting sentiment values to numpy for easier usage\n",
    "    compval1 = np.array(compval1)\n",
    "\n",
    "    # Generating a new column\n",
    "    v['VADER Score'] = compval1\n",
    "    \n",
    "    print(\"For: \", files_list0[count] ,\"the vader score was\", v['VADER Score'].mean())\n",
    "    count = count + 1"
   ]
  },
  {
   "cell_type": "code",
   "execution_count": 6,
   "metadata": {},
   "outputs": [
    {
     "name": "stdout",
     "output_type": "stream",
     "text": [
      "C:\\users\\derek\\Desktop\\MIDS Program\\_MIDs 2nd Semester\\Text Analysis\\Final_Project\\Twitter_Data\\_Github\\00_data\\biden_valence_only\n"
     ]
    }
   ],
   "source": [
    "# Now moving onto the Biden Valence only DF \n",
    "%cd ../biden_valence_only/"
   ]
  },
  {
   "cell_type": "code",
   "execution_count": 7,
   "metadata": {},
   "outputs": [],
   "source": [
    "# Successfully looped over files and made a dictionary. \n",
    "# This saves all the Bernie Valences Tweets by file number\n",
    "biden_valence_dict={}\n",
    "file_num = 0\n",
    "files_list1 = []\n",
    "# How to Loop over Files\n",
    "import os \n",
    "for i in os.listdir('C:\\\\Users\\\\derek\\\\Desktop\\\\MIDS Program\\\\_MIDs 2nd Semester\\\\Text Analysis\\\\Final_Project\\\\Twitter_Data\\\\_Github\\\\00_data\\\\biden_valence_only'):\n",
    "    biden_valence_dict[file_num] = pd.read_csv(i, error_bad_lines=False, warn_bad_lines=False, encoding = 'ISO-8859-1')\n",
    "    files_list1.append(i)\n",
    "    file_num = file_num + 1  "
   ]
  },
  {
   "cell_type": "code",
   "execution_count": 8,
   "metadata": {},
   "outputs": [
    {
     "name": "stdout",
     "output_type": "stream",
     "text": [
      "For:  biden_tweets_01MAR20.csv the vader score was 0.20912849246231224\n",
      "For:  biden_tweets_02MAR20.csv the vader score was 0.09282127446061329\n",
      "For:  biden_tweets_03MAR20.csv the vader score was 0.10175188492063489\n",
      "For:  biden_tweets_04MAR20.csv the vader score was 0.05872303030303026\n",
      "For:  biden_tweets_05MAR20.csv the vader score was 0.13150691542288565\n",
      "For:  biden_tweets_07MAR20.csv the vader score was 0.12666636317653046\n",
      "For:  biden_tweets_08MAR20.csv the vader score was 0.2349301681503482\n",
      "For:  biden_tweets_27FEB20.csv the vader score was 0.05012576211893989\n",
      "For:  biden_tweets_28FEB20.csv the vader score was 0.0590828458106097\n",
      "For:  biden_tweets_29FEB20.csv the vader score was 0.12091702574881752\n"
     ]
    }
   ],
   "source": [
    "count = 0 \n",
    "\n",
    "for k, v in biden_valence_dict.items():\n",
    "    \n",
    "    # Looping over all of the values in the Biden Tweets\n",
    "    #counter\n",
    "    i=0 \n",
    "    \n",
    "    compval1 = [ ]  #empty list to hold our computed 'compound' VADER scores\n",
    "    \n",
    "    while i < len(v):\n",
    "        \n",
    "        k = analyser.polarity_scores(v.iloc[i]['text'])\n",
    "        compval1.append(k['compound'])\n",
    "        i = i + 1\n",
    "        \n",
    "    #converting sentiment values to numpy for easier usage\n",
    "    compval1 = np.array(compval1)\n",
    "\n",
    "    # Generating a new column\n",
    "    v['VADER Score'] = compval1\n",
    "    \n",
    "    print(\"For: \", files_list1[count] ,\"the vader score was\", v['VADER Score'].mean())\n",
    "    count = count + 1"
   ]
  },
  {
   "cell_type": "code",
   "execution_count": 42,
   "metadata": {},
   "outputs": [
    {
     "name": "stdout",
     "output_type": "stream",
     "text": [
      "C:\\users\\derek\\Desktop\\MIDS Program\\_MIDs 2nd Semester\\Text Analysis\\Final_Project\\Twitter_Data\\_Github\\00_data\\bernie_volume\n"
     ]
    }
   ],
   "source": [
    "# Now moving onto the Bernie Valence/Volume DFs \n",
    "%cd ../bernie_volume/"
   ]
  },
  {
   "cell_type": "code",
   "execution_count": 10,
   "metadata": {},
   "outputs": [],
   "source": [
    "# Successfully looped over files and made a dictionary. For Bernie\n",
    "bernie_volume_dict={}\n",
    "file_num = 0\n",
    "files_list2 = []\n",
    "# How to Loop over Files\n",
    "import os \n",
    "for i in os.listdir('C:\\\\Users\\\\derek\\\\Desktop\\\\MIDS Program\\\\_MIDs 2nd Semester\\\\Text Analysis\\\\Final_Project\\\\Twitter_Data\\\\_Github\\\\00_data\\\\bernie_volume'):\n",
    "    bernie_volume_dict[file_num] = pd.read_csv(i, error_bad_lines=False, warn_bad_lines=False, lineterminator='\\n') # Removed bernie_volume_dict\n",
    "    files_list2.append(i)\n",
    "    file_num = file_num + 1  "
   ]
  },
  {
   "cell_type": "code",
   "execution_count": 39,
   "metadata": {},
   "outputs": [],
   "source": [
    "#files_list2"
   ]
  },
  {
   "cell_type": "code",
   "execution_count": 43,
   "metadata": {},
   "outputs": [
    {
     "data": {
      "text/plain": [
       "'C:\\\\users\\\\derek\\\\Desktop\\\\MIDS Program\\\\_MIDs 2nd Semester\\\\Text Analysis\\\\Final_Project\\\\Twitter_Data\\\\_Github\\\\00_data\\\\bernie_volume'"
      ]
     },
     "execution_count": 43,
     "metadata": {},
     "output_type": "execute_result"
    }
   ],
   "source": [
    "pwd"
   ]
  },
  {
   "cell_type": "code",
   "execution_count": 44,
   "metadata": {},
   "outputs": [
    {
     "name": "stdout",
     "output_type": "stream",
     "text": [
      "For:  bernie_08MAR20.csv the vader score was 0.11249977214186499\n",
      "For:  bernie_09MAR20.csv the vader score was 0.017474017743979817\n",
      "For:  bernie_10MAR20_v2.csv the vader score was 0.034291999999999996\n",
      "For:  bernie_11MAR20.csv the vader score was 0.026787791555949\n",
      "For:  bernie_12MAR20.csv the vader score was 0.004441890812250249\n",
      "For:  bernie_13MAR20.csv the vader score was 0.04359039602717547\n",
      "For:  bernie_15MAR20.csv the vader score was 0.0008341957508930488\n",
      "For:  bernie_16MAR20.csv the vader score was -0.016703104634323125\n",
      "For:  bernie_17MAR20.csv the vader score was 0.008349109466355349\n",
      "For:  bernie_18MAR20.csv the vader score was 0.005202767792954729\n",
      "For:  bernie_20MAR20.csv the vader score was 0.01040133309313624\n",
      "For:  bernie_22MAR20.csv the vader score was 0.0012465613262530961\n",
      "For:  bernie_23MAR20.csv the vader score was -0.0078546707728406\n",
      "For:  bernie_24MAR20.csv the vader score was 0.10358639812721498\n",
      "For:  bernie_26MAR20.csv the vader score was 0.010677595628415214\n",
      "For:  bernie_28MAR20.csv the vader score was -0.04675700431034478\n",
      "For:  bernie_29MAR20.csv the vader score was 0.008721293001186216\n"
     ]
    }
   ],
   "source": [
    "count = 0 \n",
    "\n",
    "for k, v in bernie_volume_dict.items():\n",
    "    \n",
    "    #counter\n",
    "    i=0 \n",
    "    \n",
    "    compval1 = [ ]  #empty list to hold our computed 'compound' VADER scores\n",
    "    \n",
    "    while i < len(v):\n",
    "        v = v.dropna(subset=['text'])\n",
    "        k = analyser.polarity_scores(v.iloc[i]['text'])\n",
    "        compval1.append(k['compound'])\n",
    "        i = i + 1\n",
    "        \n",
    "    #converting sentiment values to numpy for easier usage\n",
    "    compval1 = np.array(compval1)\n",
    "\n",
    "    # Generating a new column\n",
    "    v['VADER Score'] = compval1\n",
    "    \n",
    "    print(\"For: \", files_list2[count] ,\"the vader score was\", v['VADER Score'].mean())\n",
    "    count = count + 1"
   ]
  },
  {
   "cell_type": "code",
   "execution_count": 46,
   "metadata": {},
   "outputs": [
    {
     "name": "stdout",
     "output_type": "stream",
     "text": [
      "For:  bernie_08MAR20.csv the volume was score was (71558, 6)\n",
      "For:  bernie_09MAR20.csv the volume was score was (78804, 6)\n",
      "For:  bernie_10MAR20_v2.csv the volume was score was (181, 6)\n",
      "For:  bernie_11MAR20.csv the volume was score was (63479, 6)\n",
      "For:  bernie_12MAR20.csv the volume was score was (7856, 6)\n",
      "For:  bernie_13MAR20.csv the volume was score was (103845, 6)\n",
      "For:  bernie_15MAR20.csv the volume was score was (146117, 6)\n",
      "For:  bernie_16MAR20.csv the volume was score was (17939, 6)\n",
      "For:  bernie_17MAR20.csv the volume was score was (65204, 6)\n",
      "For:  bernie_18MAR20.csv the volume was score was (36637, 6)\n",
      "For:  bernie_20MAR20.csv the volume was score was (21337, 6)\n",
      "For:  bernie_22MAR20.csv the volume was score was (14834, 6)\n",
      "For:  bernie_23MAR20.csv the volume was score was (33757, 6)\n",
      "For:  bernie_24MAR20.csv the volume was score was (21882, 6)\n",
      "For:  bernie_26MAR20.csv the volume was score was (18374, 6)\n",
      "For:  bernie_28MAR20.csv the volume was score was (6261, 6)\n",
      "For:  bernie_29MAR20.csv the volume was score was (43357, 6)\n"
     ]
    }
   ],
   "source": [
    "count = 0\n",
    "for k, v in bernie_volume_dict.items():\n",
    "    print(\"For: \", files_list2[count] ,\"the volume was score was\", v.shape)\n",
    "    count = count + 1"
   ]
  },
  {
   "cell_type": "code",
   "execution_count": 11,
   "metadata": {},
   "outputs": [
    {
     "name": "stdout",
     "output_type": "stream",
     "text": [
      "C:\\users\\derek\\Desktop\\MIDS Program\\_MIDs 2nd Semester\\Text Analysis\\Final_Project\\Twitter_Data\\_Github\\00_data\\biden_volume\n"
     ]
    }
   ],
   "source": [
    "cd ../biden_volume/"
   ]
  },
  {
   "cell_type": "code",
   "execution_count": 12,
   "metadata": {},
   "outputs": [],
   "source": [
    "# Successfully looped over files and made a dictionary. \n",
    "biden_volume_dict={}\n",
    "file_num = 0\n",
    "files_list3 = []\n",
    "# How to Loop over Files\n",
    "import os \n",
    "for i in os.listdir('C:\\\\Users\\\\derek\\\\Desktop\\\\MIDS Program\\\\_MIDs 2nd Semester\\\\Text Analysis\\\\Final_Project\\\\Twitter_Data\\\\_Github\\\\00_data\\\\biden_volume'):\n",
    "    biden_volume_dict[file_num] = pd.read_csv(i, error_bad_lines=False, warn_bad_lines=False, encoding = 'ISO-8859-1', engine = 'python')\n",
    "    files_list3.append(i)\n",
    "    file_num = file_num + 1  "
   ]
  },
  {
   "cell_type": "code",
   "execution_count": 40,
   "metadata": {},
   "outputs": [],
   "source": [
    "#files_list3"
   ]
  },
  {
   "cell_type": "code",
   "execution_count": 45,
   "metadata": {},
   "outputs": [],
   "source": [
    "# Adding the column names\n",
    "col_names = ['date', 'user', 'is_retweet', 'is_quote', 'text', 'quoted_text']\n",
    "\n",
    "# Applying the columns to the problem DF.\n",
    "biden_volume_dict[2].columns = col_names"
   ]
  },
  {
   "cell_type": "code",
   "execution_count": 32,
   "metadata": {},
   "outputs": [
    {
     "name": "stdout",
     "output_type": "stream",
     "text": [
      "For:  biden_08MAR20.csv the vader score was 0.15831222439297019\n",
      "For:  biden_09MAR20.csv the vader score was 0.04828374622356482\n",
      "For:  biden_10MAR20_v2.csv the vader score was 0.031028137981591767\n",
      "For:  biden_11MAR20.csv the vader score was 0.04303479269149724\n",
      "For:  biden_12MAR20.csv the vader score was -0.03548839285714288\n",
      "For:  biden_13MAR20.csv the vader score was -0.03290862390727763\n",
      "For:  Biden_15MAR20.csv the vader score was 0.036965233613363895\n",
      "For:  biden_16MAR20.csv the vader score was 0.04914046579330436\n",
      "For:  biden_17MAR20.csv the vader score was 0.026972885283893435\n",
      "For:  Biden_18MAR20.csv the vader score was 0.04788696177062362\n",
      "For:  Biden_20MAR20.csv the vader score was 0.12747230417090707\n",
      "For:  Biden_22MAR20.csv the vader score was -0.06912246582409182\n",
      "For:  Biden_23MAR20.csv the vader score was -7.80586450960422e-05\n",
      "For:  Biden_24MAR20.csv the vader score was -0.0427798647633359\n",
      "For:  biden_26MAR20.csv the vader score was 0.06853905091448377\n",
      "For:  biden_28MAR20.csv the vader score was 0.004952415265545772\n",
      "For:  biden_29MAR20.csv the vader score was 0.012014668452779315\n"
     ]
    }
   ],
   "source": [
    "count = 0 \n",
    "\n",
    "for k, v in biden_volume_dict.items():\n",
    "    \n",
    "    # Looping over all of the values in the Bernie tweet\n",
    "    i=0 #counter\n",
    "    compval1 = [ ]  #empty list to hold our computed 'compound' VADER scores\n",
    "    \n",
    "    while i < len(v):\n",
    "        v = v.dropna(subset=['text'])\n",
    "        k = analyser.polarity_scores(v.iloc[i]['text'])\n",
    "        compval1.append(k['compound'])\n",
    "        i = i + 1\n",
    "        \n",
    "    #converting sentiment values to numpy for easier usage\n",
    "    compval1 = np.array(compval1)\n",
    "\n",
    "    # Generating a new column\n",
    "    v['VADER Score'] = compval1\n",
    "    \n",
    "    print(\"For: \", files_list3[count] ,\"the vader score was\", v['VADER Score'].mean())\n",
    "    #print(\"the vader score was\", v['VADER Score'].mean())\n",
    "    count = count + 1"
   ]
  },
  {
   "cell_type": "code",
   "execution_count": 37,
   "metadata": {},
   "outputs": [
    {
     "name": "stdout",
     "output_type": "stream",
     "text": [
      "For:  biden_08MAR20.csv the volume was score was (36007, 6)\n",
      "For:  biden_09MAR20.csv the volume was score was (3703, 6)\n",
      "For:  biden_10MAR20_v2.csv the volume was score was (50455, 6)\n",
      "For:  biden_11MAR20.csv the volume was score was (27552, 6)\n",
      "For:  biden_12MAR20.csv the volume was score was (3072, 6)\n",
      "For:  biden_13MAR20.csv the volume was score was (37430, 6)\n",
      "For:  Biden_15MAR20.csv the volume was score was (65355, 6)\n",
      "For:  biden_16MAR20.csv the volume was score was (9645, 6)\n",
      "For:  biden_17MAR20.csv the volume was score was (1615, 6)\n",
      "For:  Biden_18MAR20.csv the volume was score was (13231, 6)\n",
      "For:  Biden_20MAR20.csv the volume was score was (16344, 6)\n",
      "For:  Biden_22MAR20.csv the volume was score was (13328, 6)\n",
      "For:  Biden_23MAR20.csv the volume was score was (17558, 6)\n",
      "For:  Biden_24MAR20.csv the volume was score was (17963, 6)\n",
      "For:  biden_26MAR20.csv the volume was score was (8774, 6)\n",
      "For:  biden_28MAR20.csv the volume was score was (6685, 6)\n",
      "For:  biden_29MAR20.csv the volume was score was (20717, 6)\n"
     ]
    }
   ],
   "source": [
    "# Getting the Volume of the Bernie Tweets\n",
    "count = 0\n",
    "for k, v in biden_volume_dict.items():\n",
    "    print(\"For: \", files_list3[count] ,\"the volume was score was\", v.shape)\n",
    "    count = count + 1"
   ]
  }
 ],
 "metadata": {
  "kernelspec": {
   "display_name": "Python 3",
   "language": "python",
   "name": "python3"
  },
  "language_info": {
   "codemirror_mode": {
    "name": "ipython",
    "version": 3
   },
   "file_extension": ".py",
   "mimetype": "text/x-python",
   "name": "python",
   "nbconvert_exporter": "python",
   "pygments_lexer": "ipython3",
   "version": "3.7.6"
  }
 },
 "nbformat": 4,
 "nbformat_minor": 4
}
